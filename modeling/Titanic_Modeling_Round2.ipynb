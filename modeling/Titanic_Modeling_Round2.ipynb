{
 "cells": [
  {
   "cell_type": "markdown",
   "metadata": {},
   "source": [
    "# Titanic Practice"
   ]
  },
  {
   "cell_type": "code",
   "execution_count": 45,
   "metadata": {},
   "outputs": [],
   "source": [
    "import numpy as np\n",
    "import matplotlib.pyplot as plt\n",
    "import pandas as pd\n",
    "import seaborn as sns\n",
    "import math"
   ]
  },
  {
   "cell_type": "code",
   "execution_count": 40,
   "metadata": {},
   "outputs": [],
   "source": [
    "titanic_train = pd.read_csv('../train.csv')\n",
    "# titanic_test = pd.read_csv('../test.csv')\n",
    "# we will use the training set as our full data set to \n",
    "# implement the steps of splitting data"
   ]
  },
  {
   "cell_type": "code",
   "execution_count": 41,
   "metadata": {},
   "outputs": [
    {
     "data": {
      "text/html": [
       "<div>\n",
       "<style scoped>\n",
       "    .dataframe tbody tr th:only-of-type {\n",
       "        vertical-align: middle;\n",
       "    }\n",
       "\n",
       "    .dataframe tbody tr th {\n",
       "        vertical-align: top;\n",
       "    }\n",
       "\n",
       "    .dataframe thead th {\n",
       "        text-align: right;\n",
       "    }\n",
       "</style>\n",
       "<table border=\"1\" class=\"dataframe\">\n",
       "  <thead>\n",
       "    <tr style=\"text-align: right;\">\n",
       "      <th></th>\n",
       "      <th>PassengerId</th>\n",
       "      <th>Survived</th>\n",
       "      <th>Pclass</th>\n",
       "      <th>Name</th>\n",
       "      <th>Sex</th>\n",
       "      <th>Age</th>\n",
       "      <th>SibSp</th>\n",
       "      <th>Parch</th>\n",
       "      <th>Ticket</th>\n",
       "      <th>Fare</th>\n",
       "      <th>Cabin</th>\n",
       "      <th>Embarked</th>\n",
       "    </tr>\n",
       "  </thead>\n",
       "  <tbody>\n",
       "    <tr>\n",
       "      <th>0</th>\n",
       "      <td>1</td>\n",
       "      <td>0</td>\n",
       "      <td>3</td>\n",
       "      <td>Braund, Mr. Owen Harris</td>\n",
       "      <td>male</td>\n",
       "      <td>22.0</td>\n",
       "      <td>1</td>\n",
       "      <td>0</td>\n",
       "      <td>A/5 21171</td>\n",
       "      <td>7.2500</td>\n",
       "      <td>NaN</td>\n",
       "      <td>S</td>\n",
       "    </tr>\n",
       "    <tr>\n",
       "      <th>1</th>\n",
       "      <td>2</td>\n",
       "      <td>1</td>\n",
       "      <td>1</td>\n",
       "      <td>Cumings, Mrs. John Bradley (Florence Briggs Th...</td>\n",
       "      <td>female</td>\n",
       "      <td>38.0</td>\n",
       "      <td>1</td>\n",
       "      <td>0</td>\n",
       "      <td>PC 17599</td>\n",
       "      <td>71.2833</td>\n",
       "      <td>C85</td>\n",
       "      <td>C</td>\n",
       "    </tr>\n",
       "    <tr>\n",
       "      <th>2</th>\n",
       "      <td>3</td>\n",
       "      <td>1</td>\n",
       "      <td>3</td>\n",
       "      <td>Heikkinen, Miss. Laina</td>\n",
       "      <td>female</td>\n",
       "      <td>26.0</td>\n",
       "      <td>0</td>\n",
       "      <td>0</td>\n",
       "      <td>STON/O2. 3101282</td>\n",
       "      <td>7.9250</td>\n",
       "      <td>NaN</td>\n",
       "      <td>S</td>\n",
       "    </tr>\n",
       "    <tr>\n",
       "      <th>3</th>\n",
       "      <td>4</td>\n",
       "      <td>1</td>\n",
       "      <td>1</td>\n",
       "      <td>Futrelle, Mrs. Jacques Heath (Lily May Peel)</td>\n",
       "      <td>female</td>\n",
       "      <td>35.0</td>\n",
       "      <td>1</td>\n",
       "      <td>0</td>\n",
       "      <td>113803</td>\n",
       "      <td>53.1000</td>\n",
       "      <td>C123</td>\n",
       "      <td>S</td>\n",
       "    </tr>\n",
       "    <tr>\n",
       "      <th>4</th>\n",
       "      <td>5</td>\n",
       "      <td>0</td>\n",
       "      <td>3</td>\n",
       "      <td>Allen, Mr. William Henry</td>\n",
       "      <td>male</td>\n",
       "      <td>35.0</td>\n",
       "      <td>0</td>\n",
       "      <td>0</td>\n",
       "      <td>373450</td>\n",
       "      <td>8.0500</td>\n",
       "      <td>NaN</td>\n",
       "      <td>S</td>\n",
       "    </tr>\n",
       "    <tr>\n",
       "      <th>5</th>\n",
       "      <td>6</td>\n",
       "      <td>0</td>\n",
       "      <td>3</td>\n",
       "      <td>Moran, Mr. James</td>\n",
       "      <td>male</td>\n",
       "      <td>NaN</td>\n",
       "      <td>0</td>\n",
       "      <td>0</td>\n",
       "      <td>330877</td>\n",
       "      <td>8.4583</td>\n",
       "      <td>NaN</td>\n",
       "      <td>Q</td>\n",
       "    </tr>\n",
       "    <tr>\n",
       "      <th>6</th>\n",
       "      <td>7</td>\n",
       "      <td>0</td>\n",
       "      <td>1</td>\n",
       "      <td>McCarthy, Mr. Timothy J</td>\n",
       "      <td>male</td>\n",
       "      <td>54.0</td>\n",
       "      <td>0</td>\n",
       "      <td>0</td>\n",
       "      <td>17463</td>\n",
       "      <td>51.8625</td>\n",
       "      <td>E46</td>\n",
       "      <td>S</td>\n",
       "    </tr>\n",
       "    <tr>\n",
       "      <th>7</th>\n",
       "      <td>8</td>\n",
       "      <td>0</td>\n",
       "      <td>3</td>\n",
       "      <td>Palsson, Master. Gosta Leonard</td>\n",
       "      <td>male</td>\n",
       "      <td>2.0</td>\n",
       "      <td>3</td>\n",
       "      <td>1</td>\n",
       "      <td>349909</td>\n",
       "      <td>21.0750</td>\n",
       "      <td>NaN</td>\n",
       "      <td>S</td>\n",
       "    </tr>\n",
       "    <tr>\n",
       "      <th>8</th>\n",
       "      <td>9</td>\n",
       "      <td>1</td>\n",
       "      <td>3</td>\n",
       "      <td>Johnson, Mrs. Oscar W (Elisabeth Vilhelmina Berg)</td>\n",
       "      <td>female</td>\n",
       "      <td>27.0</td>\n",
       "      <td>0</td>\n",
       "      <td>2</td>\n",
       "      <td>347742</td>\n",
       "      <td>11.1333</td>\n",
       "      <td>NaN</td>\n",
       "      <td>S</td>\n",
       "    </tr>\n",
       "    <tr>\n",
       "      <th>9</th>\n",
       "      <td>10</td>\n",
       "      <td>1</td>\n",
       "      <td>2</td>\n",
       "      <td>Nasser, Mrs. Nicholas (Adele Achem)</td>\n",
       "      <td>female</td>\n",
       "      <td>14.0</td>\n",
       "      <td>1</td>\n",
       "      <td>0</td>\n",
       "      <td>237736</td>\n",
       "      <td>30.0708</td>\n",
       "      <td>NaN</td>\n",
       "      <td>C</td>\n",
       "    </tr>\n",
       "  </tbody>\n",
       "</table>\n",
       "</div>"
      ],
      "text/plain": [
       "   PassengerId  Survived  Pclass  \\\n",
       "0            1         0       3   \n",
       "1            2         1       1   \n",
       "2            3         1       3   \n",
       "3            4         1       1   \n",
       "4            5         0       3   \n",
       "5            6         0       3   \n",
       "6            7         0       1   \n",
       "7            8         0       3   \n",
       "8            9         1       3   \n",
       "9           10         1       2   \n",
       "\n",
       "                                                Name     Sex   Age  SibSp  \\\n",
       "0                            Braund, Mr. Owen Harris    male  22.0      1   \n",
       "1  Cumings, Mrs. John Bradley (Florence Briggs Th...  female  38.0      1   \n",
       "2                             Heikkinen, Miss. Laina  female  26.0      0   \n",
       "3       Futrelle, Mrs. Jacques Heath (Lily May Peel)  female  35.0      1   \n",
       "4                           Allen, Mr. William Henry    male  35.0      0   \n",
       "5                                   Moran, Mr. James    male   NaN      0   \n",
       "6                            McCarthy, Mr. Timothy J    male  54.0      0   \n",
       "7                     Palsson, Master. Gosta Leonard    male   2.0      3   \n",
       "8  Johnson, Mrs. Oscar W (Elisabeth Vilhelmina Berg)  female  27.0      0   \n",
       "9                Nasser, Mrs. Nicholas (Adele Achem)  female  14.0      1   \n",
       "\n",
       "   Parch            Ticket     Fare Cabin Embarked  \n",
       "0      0         A/5 21171   7.2500   NaN        S  \n",
       "1      0          PC 17599  71.2833   C85        C  \n",
       "2      0  STON/O2. 3101282   7.9250   NaN        S  \n",
       "3      0            113803  53.1000  C123        S  \n",
       "4      0            373450   8.0500   NaN        S  \n",
       "5      0            330877   8.4583   NaN        Q  \n",
       "6      0             17463  51.8625   E46        S  \n",
       "7      1            349909  21.0750   NaN        S  \n",
       "8      2            347742  11.1333   NaN        S  \n",
       "9      0            237736  30.0708   NaN        C  "
      ]
     },
     "execution_count": 41,
     "metadata": {},
     "output_type": "execute_result"
    }
   ],
   "source": [
    "titanic_train.head(10)"
   ]
  },
  {
   "cell_type": "code",
   "execution_count": 71,
   "metadata": {},
   "outputs": [
    {
     "data": {
      "text/plain": [
       "agerange\n",
       "0-20      179\n",
       "20-29     230\n",
       "30-39     155\n",
       "40-49      86\n",
       "50+        64\n",
       "No Age    177\n",
       "Name: PassengerId, dtype: int64"
      ]
     },
     "execution_count": 71,
     "metadata": {},
     "output_type": "execute_result"
    }
   ],
   "source": [
    "# create age buckets for data vis\n",
    "bins = [0, 20, 30, 40, 50, 120]\n",
    "labels = ['0-20', '20-29', '30-39', '40-49','50+']\n",
    "titanic_train['agerange'] = pd.cut(titanic_train.Age, bins, labels = labels,include_lowest = True)\n",
    "titanic_train['agerange'] = titanic_train['agerange'].replace(np.nan, 'No Age', regex=True)\n",
    "titanic_train.groupby('agerange')['PassengerId'].count()"
   ]
  },
  {
   "cell_type": "markdown",
   "metadata": {},
   "source": [
    "## Data Vis"
   ]
  },
  {
   "cell_type": "code",
   "execution_count": 51,
   "metadata": {},
   "outputs": [
    {
     "data": {
      "text/plain": [
       "Text(0, 0.5, 'Survival')"
      ]
     },
     "execution_count": 51,
     "metadata": {},
     "output_type": "execute_result"
    },
    {
     "data": {
      "image/png": "[encoded data removed]",
      "text/plain": [
       "<Figure size 432x288 with 1 Axes>"
      ]
     },
     "metadata": {
      "needs_background": "light"
     },
     "output_type": "display_data"
    }
   ],
   "source": [
    "table=pd.crosstab(titanic_train.Sex,titanic_train.Survived)\n",
    "table.div(table.sum(1).astype(float), axis=0).plot(kind='bar', stacked=True)\n",
    "plt.title('Sex vs. Survival')\n",
    "plt.xlabel('Sex')\n",
    "plt.ylabel('Survival')"
   ]
  },
  {
   "cell_type": "code",
   "execution_count": 55,
   "metadata": {},
   "outputs": [
    {
     "data": {
      "text/plain": [
       "Text(0, 0.5, 'Survival')"
      ]
     },
     "execution_count": 55,
     "metadata": {},
     "output_type": "execute_result"
    },
    {
     "data": {
      "image/png": "[encoded data removed]",
      "text/plain": [
       "<Figure size 432x288 with 1 Axes>"
      ]
     },
     "metadata": {
      "needs_background": "light"
     },
     "output_type": "display_data"
    }
   ],
   "source": [
    "table=pd.crosstab(titanic_train.Pclass,titanic_train.Survived)\n",
    "table.div(table.sum(1).astype(float), axis=0).plot(kind='bar', stacked=True)\n",
    "plt.title('Class vs. Survival')\n",
    "plt.xlabel('Class')\n",
    "plt.ylabel('Survival')"
   ]
  },
  {
   "cell_type": "code",
   "execution_count": 72,
   "metadata": {},
   "outputs": [
    {
     "data": {
      "text/plain": [
       "Text(0, 0.5, 'Survival')"
      ]
     },
     "execution_count": 72,
     "metadata": {},
     "output_type": "execute_result"
    },
    {
     "data": {
      "image/png": "[encoded data removed]",
      "text/plain": [
       "<Figure size 432x288 with 1 Axes>"
      ]
     },
     "metadata": {
      "needs_background": "light"
     },
     "output_type": "display_data"
    }
   ],
   "source": [
    "table=pd.crosstab(titanic_train.agerange,titanic_train.Survived)\n",
    "table.div(table.sum(1).astype(float), axis=0).plot(kind='bar', stacked=True)\n",
    "plt.title('Age vs. Survival')\n",
    "plt.xlabel('Age')\n",
    "plt.ylabel('Survival')"
   ]
  },
  {
   "cell_type": "code",
   "execution_count": 56,
   "metadata": {},
   "outputs": [
    {
     "data": {
      "text/plain": [
       "Text(0, 0.5, 'Survival')"
      ]
     },
     "execution_count": 56,
     "metadata": {},
     "output_type": "execute_result"
    },
    {
     "data": {
      "image/png": "[encoded data removed]",
      "text/plain": [
       "<Figure size 432x288 with 1 Axes>"
      ]
     },
     "metadata": {
      "needs_background": "light"
     },
     "output_type": "display_data"
    }
   ],
   "source": [
    "table=pd.crosstab(titanic_train.Embarked,titanic_train.Survived)\n",
    "table.div(table.sum(1).astype(float), axis=0).plot(kind='bar', stacked=True)\n",
    "plt.title('City Embarked vs. Survival')\n",
    "plt.xlabel('Embarked')\n",
    "plt.ylabel('Survival')"
   ]
  },
  {
   "cell_type": "code",
   "execution_count": 57,
   "metadata": {},
   "outputs": [
    {
     "data": {
      "text/plain": [
       "Text(0, 0.5, 'Survival')"
      ]
     },
     "execution_count": 57,
     "metadata": {},
     "output_type": "execute_result"
    },
    {
     "data": {
      "image/png": "[encoded data removed]",
      "text/plain": [
       "<Figure size 432x288 with 1 Axes>"
      ]
     },
     "metadata": {
      "needs_background": "light"
     },
     "output_type": "display_data"
    }
   ],
   "source": [
    "table=pd.crosstab(titanic_train.Parch>0,titanic_train.Survived)\n",
    "table.div(table.sum(1).astype(float), axis=0).plot(kind='bar', stacked=True)\n",
    "plt.title('Traveling w/ Parents or Children vs. Survival')\n",
    "plt.xlabel('Traveling w/ Parents or Children')\n",
    "plt.ylabel('Survival')"
   ]
  },
  {
   "cell_type": "code",
   "execution_count": 54,
   "metadata": {},
   "outputs": [
    {
     "data": {
      "text/plain": [
       "Text(0, 0.5, 'Survival')"
      ]
     },
     "execution_count": 54,
     "metadata": {},
     "output_type": "execute_result"
    },
    {
     "data": {
      "image/png": "[encoded data removed]",
      "text/plain": [
       "<Figure size 432x288 with 1 Axes>"
      ]
     },
     "metadata": {
      "needs_background": "light"
     },
     "output_type": "display_data"
    }
   ],
   "source": [
    "table=pd.crosstab(titanic_train.SibSp>0,titanic_train.Survived)\n",
    "table.div(table.sum(1).astype(float), axis=0).plot(kind='bar', stacked=True)\n",
    "plt.title('Traveling w/ Siblings or Spouse vs. Survival')\n",
    "plt.xlabel('Traveling w/ Siblings or Spouse')\n",
    "plt.ylabel('Survival')"
   ]
  },
  {
   "cell_type": "markdown",
   "metadata": {},
   "source": [
    "## Pre-Process Data"
   ]
  },
  {
   "cell_type": "markdown",
   "metadata": {},
   "source": [
    "#### Deal with missing age"
   ]
  },
  {
   "cell_type": "code",
   "execution_count": 73,
   "metadata": {},
   "outputs": [
    {
     "name": "stdout",
     "output_type": "stream",
     "text": [
      "      Sex  Pclass        Age\n",
      "0  female       1  34.611765\n",
      "1  female       2  28.722973\n",
      "2  female       3  21.750000\n",
      "3    male       1  41.281386\n",
      "4    male       2  30.740707\n",
      "5    male       3  26.507589\n"
     ]
    }
   ],
   "source": [
    "# Deal with missing age by tacking average age by class / sex and joining \n",
    "avg_ages = titanic_train.groupby(['Sex', 'Pclass'])['Age'].mean().reset_index()\n",
    "print(avg_ages)"
   ]
  },
  {
   "cell_type": "code",
   "execution_count": 82,
   "metadata": {},
   "outputs": [
    {
     "data": {
      "text/html": [
       "<div>\n",
       "<style scoped>\n",
       "    .dataframe tbody tr th:only-of-type {\n",
       "        vertical-align: middle;\n",
       "    }\n",
       "\n",
       "    .dataframe tbody tr th {\n",
       "        vertical-align: top;\n",
       "    }\n",
       "\n",
       "    .dataframe thead th {\n",
       "        text-align: right;\n",
       "    }\n",
       "</style>\n",
       "<table border=\"1\" class=\"dataframe\">\n",
       "  <thead>\n",
       "    <tr style=\"text-align: right;\">\n",
       "      <th></th>\n",
       "      <th>Age_x</th>\n",
       "      <th>Age_y</th>\n",
       "    </tr>\n",
       "  </thead>\n",
       "  <tbody>\n",
       "    <tr>\n",
       "      <th>0</th>\n",
       "      <td>22.0</td>\n",
       "      <td>26.507589</td>\n",
       "    </tr>\n",
       "    <tr>\n",
       "      <th>1</th>\n",
       "      <td>38.0</td>\n",
       "      <td>34.611765</td>\n",
       "    </tr>\n",
       "    <tr>\n",
       "      <th>2</th>\n",
       "      <td>26.0</td>\n",
       "      <td>21.750000</td>\n",
       "    </tr>\n",
       "    <tr>\n",
       "      <th>3</th>\n",
       "      <td>35.0</td>\n",
       "      <td>34.611765</td>\n",
       "    </tr>\n",
       "    <tr>\n",
       "      <th>4</th>\n",
       "      <td>35.0</td>\n",
       "      <td>26.507589</td>\n",
       "    </tr>\n",
       "    <tr>\n",
       "      <th>5</th>\n",
       "      <td>NaN</td>\n",
       "      <td>26.507589</td>\n",
       "    </tr>\n",
       "    <tr>\n",
       "      <th>6</th>\n",
       "      <td>54.0</td>\n",
       "      <td>41.281386</td>\n",
       "    </tr>\n",
       "    <tr>\n",
       "      <th>7</th>\n",
       "      <td>2.0</td>\n",
       "      <td>26.507589</td>\n",
       "    </tr>\n",
       "    <tr>\n",
       "      <th>8</th>\n",
       "      <td>27.0</td>\n",
       "      <td>21.750000</td>\n",
       "    </tr>\n",
       "    <tr>\n",
       "      <th>9</th>\n",
       "      <td>14.0</td>\n",
       "      <td>28.722973</td>\n",
       "    </tr>\n",
       "  </tbody>\n",
       "</table>\n",
       "</div>"
      ],
      "text/plain": [
       "   Age_x      Age_y\n",
       "0   22.0  26.507589\n",
       "1   38.0  34.611765\n",
       "2   26.0  21.750000\n",
       "3   35.0  34.611765\n",
       "4   35.0  26.507589\n",
       "5    NaN  26.507589\n",
       "6   54.0  41.281386\n",
       "7    2.0  26.507589\n",
       "8   27.0  21.750000\n",
       "9   14.0  28.722973"
      ]
     },
     "execution_count": 82,
     "metadata": {},
     "output_type": "execute_result"
    }
   ],
   "source": [
    "# merge avg age to titanic_train\n",
    "titanic_train2 = pd.merge(titanic_train, avg_ages,  how='left', left_on=['Sex','Pclass'], right_on = ['Sex','Pclass'])\n",
    "titanic_train2[['Age_x','Age_y']].head(10)"
   ]
  },
  {
   "cell_type": "code",
   "execution_count": 83,
   "metadata": {},
   "outputs": [
    {
     "name": "stderr",
     "output_type": "stream",
     "text": [
      "/opt/anaconda/anaconda3/lib/python3.7/site-packages/ipykernel_launcher.py:2: SettingWithCopyWarning: \n",
      "A value is trying to be set on a copy of a slice from a DataFrame\n",
      "\n",
      "See the caveats in the documentation: http://pandas.pydata.org/pandas-docs/stable/user_guide/indexing.html#returning-a-view-versus-a-copy\n",
      "  \n"
     ]
    }
   ],
   "source": [
    "# fill in missing age with estimated age\n",
    "titanic_train2['Age_x'][np.isnan(titanic_train2['Age_x']).values] = titanic_train2['Age_y'][np.isnan(titanic_train2['Age_x']).values]"
   ]
  },
  {
   "cell_type": "markdown",
   "metadata": {},
   "source": [
    "#### create categorical variables"
   ]
  },
  {
   "cell_type": "code",
   "execution_count": 84,
   "metadata": {},
   "outputs": [],
   "source": [
    "titanic_train2['SibSp2'] = titanic_train2['SibSp'] > 0\n",
    "titanic_train2['Parch2'] = titanic_train2['Parch'] > 0"
   ]
  },
  {
   "cell_type": "code",
   "execution_count": 85,
   "metadata": {},
   "outputs": [],
   "source": [
    "# encode categorial variables here\n",
    "titanic_train2 = pd.get_dummies(titanic_train2, columns=['Sex', 'Pclass', 'Parch2', 'SibSp2', 'agerange'], prefix = ['Sex', 'Class', 'Parch', 'SibSp', 'AgeRange'])"
   ]
  },
  {
   "cell_type": "code",
   "execution_count": 86,
   "metadata": {},
   "outputs": [
    {
     "data": {
      "text/plain": [
       "(891, 26)"
      ]
     },
     "execution_count": 86,
     "metadata": {},
     "output_type": "execute_result"
    }
   ],
   "source": [
    "titanic_train2.shape"
   ]
  },
  {
   "cell_type": "code",
   "execution_count": 87,
   "metadata": {},
   "outputs": [
    {
     "data": {
      "text/html": [
       "<div>\n",
       "<style scoped>\n",
       "    .dataframe tbody tr th:only-of-type {\n",
       "        vertical-align: middle;\n",
       "    }\n",
       "\n",
       "    .dataframe tbody tr th {\n",
       "        vertical-align: top;\n",
       "    }\n",
       "\n",
       "    .dataframe thead th {\n",
       "        text-align: right;\n",
       "    }\n",
       "</style>\n",
       "<table border=\"1\" class=\"dataframe\">\n",
       "  <thead>\n",
       "    <tr style=\"text-align: right;\">\n",
       "      <th></th>\n",
       "      <th>PassengerId</th>\n",
       "      <th>Survived</th>\n",
       "      <th>Name</th>\n",
       "      <th>Age_x</th>\n",
       "      <th>SibSp</th>\n",
       "      <th>Parch</th>\n",
       "      <th>Ticket</th>\n",
       "      <th>Fare</th>\n",
       "      <th>Cabin</th>\n",
       "      <th>Embarked</th>\n",
       "      <th>...</th>\n",
       "      <th>Parch_False</th>\n",
       "      <th>Parch_True</th>\n",
       "      <th>SibSp_False</th>\n",
       "      <th>SibSp_True</th>\n",
       "      <th>AgeRange_0-20</th>\n",
       "      <th>AgeRange_20-29</th>\n",
       "      <th>AgeRange_30-39</th>\n",
       "      <th>AgeRange_40-49</th>\n",
       "      <th>AgeRange_50+</th>\n",
       "      <th>AgeRange_No Age</th>\n",
       "    </tr>\n",
       "  </thead>\n",
       "  <tbody>\n",
       "    <tr>\n",
       "      <th>0</th>\n",
       "      <td>1</td>\n",
       "      <td>0</td>\n",
       "      <td>Braund, Mr. Owen Harris</td>\n",
       "      <td>22.000000</td>\n",
       "      <td>1</td>\n",
       "      <td>0</td>\n",
       "      <td>A/5 21171</td>\n",
       "      <td>7.2500</td>\n",
       "      <td>NaN</td>\n",
       "      <td>S</td>\n",
       "      <td>...</td>\n",
       "      <td>1</td>\n",
       "      <td>0</td>\n",
       "      <td>0</td>\n",
       "      <td>1</td>\n",
       "      <td>0</td>\n",
       "      <td>1</td>\n",
       "      <td>0</td>\n",
       "      <td>0</td>\n",
       "      <td>0</td>\n",
       "      <td>0</td>\n",
       "    </tr>\n",
       "    <tr>\n",
       "      <th>1</th>\n",
       "      <td>2</td>\n",
       "      <td>1</td>\n",
       "      <td>Cumings, Mrs. John Bradley (Florence Briggs Th...</td>\n",
       "      <td>38.000000</td>\n",
       "      <td>1</td>\n",
       "      <td>0</td>\n",
       "      <td>PC 17599</td>\n",
       "      <td>71.2833</td>\n",
       "      <td>C85</td>\n",
       "      <td>C</td>\n",
       "      <td>...</td>\n",
       "      <td>1</td>\n",
       "      <td>0</td>\n",
       "      <td>0</td>\n",
       "      <td>1</td>\n",
       "      <td>0</td>\n",
       "      <td>0</td>\n",
       "      <td>1</td>\n",
       "      <td>0</td>\n",
       "      <td>0</td>\n",
       "      <td>0</td>\n",
       "    </tr>\n",
       "    <tr>\n",
       "      <th>2</th>\n",
       "      <td>3</td>\n",
       "      <td>1</td>\n",
       "      <td>Heikkinen, Miss. Laina</td>\n",
       "      <td>26.000000</td>\n",
       "      <td>0</td>\n",
       "      <td>0</td>\n",
       "      <td>STON/O2. 3101282</td>\n",
       "      <td>7.9250</td>\n",
       "      <td>NaN</td>\n",
       "      <td>S</td>\n",
       "      <td>...</td>\n",
       "      <td>1</td>\n",
       "      <td>0</td>\n",
       "      <td>1</td>\n",
       "      <td>0</td>\n",
       "      <td>0</td>\n",
       "      <td>1</td>\n",
       "      <td>0</td>\n",
       "      <td>0</td>\n",
       "      <td>0</td>\n",
       "      <td>0</td>\n",
       "    </tr>\n",
       "    <tr>\n",
       "      <th>3</th>\n",
       "      <td>4</td>\n",
       "      <td>1</td>\n",
       "      <td>Futrelle, Mrs. Jacques Heath (Lily May Peel)</td>\n",
       "      <td>35.000000</td>\n",
       "      <td>1</td>\n",
       "      <td>0</td>\n",
       "      <td>113803</td>\n",
       "      <td>53.1000</td>\n",
       "      <td>C123</td>\n",
       "      <td>S</td>\n",
       "      <td>...</td>\n",
       "      <td>1</td>\n",
       "      <td>0</td>\n",
       "      <td>0</td>\n",
       "      <td>1</td>\n",
       "      <td>0</td>\n",
       "      <td>0</td>\n",
       "      <td>1</td>\n",
       "      <td>0</td>\n",
       "      <td>0</td>\n",
       "      <td>0</td>\n",
       "    </tr>\n",
       "    <tr>\n",
       "      <th>4</th>\n",
       "      <td>5</td>\n",
       "      <td>0</td>\n",
       "      <td>Allen, Mr. William Henry</td>\n",
       "      <td>35.000000</td>\n",
       "      <td>0</td>\n",
       "      <td>0</td>\n",
       "      <td>373450</td>\n",
       "      <td>8.0500</td>\n",
       "      <td>NaN</td>\n",
       "      <td>S</td>\n",
       "      <td>...</td>\n",
       "      <td>1</td>\n",
       "      <td>0</td>\n",
       "      <td>1</td>\n",
       "      <td>0</td>\n",
       "      <td>0</td>\n",
       "      <td>0</td>\n",
       "      <td>1</td>\n",
       "      <td>0</td>\n",
       "      <td>0</td>\n",
       "      <td>0</td>\n",
       "    </tr>\n",
       "    <tr>\n",
       "      <th>5</th>\n",
       "      <td>6</td>\n",
       "      <td>0</td>\n",
       "      <td>Moran, Mr. James</td>\n",
       "      <td>26.507589</td>\n",
       "      <td>0</td>\n",
       "      <td>0</td>\n",
       "      <td>330877</td>\n",
       "      <td>8.4583</td>\n",
       "      <td>NaN</td>\n",
       "      <td>Q</td>\n",
       "      <td>...</td>\n",
       "      <td>1</td>\n",
       "      <td>0</td>\n",
       "      <td>1</td>\n",
       "      <td>0</td>\n",
       "      <td>0</td>\n",
       "      <td>0</td>\n",
       "      <td>0</td>\n",
       "      <td>0</td>\n",
       "      <td>0</td>\n",
       "      <td>1</td>\n",
       "    </tr>\n",
       "    <tr>\n",
       "      <th>6</th>\n",
       "      <td>7</td>\n",
       "      <td>0</td>\n",
       "      <td>McCarthy, Mr. Timothy J</td>\n",
       "      <td>54.000000</td>\n",
       "      <td>0</td>\n",
       "      <td>0</td>\n",
       "      <td>17463</td>\n",
       "      <td>51.8625</td>\n",
       "      <td>E46</td>\n",
       "      <td>S</td>\n",
       "      <td>...</td>\n",
       "      <td>1</td>\n",
       "      <td>0</td>\n",
       "      <td>1</td>\n",
       "      <td>0</td>\n",
       "      <td>0</td>\n",
       "      <td>0</td>\n",
       "      <td>0</td>\n",
       "      <td>0</td>\n",
       "      <td>1</td>\n",
       "      <td>0</td>\n",
       "    </tr>\n",
       "    <tr>\n",
       "      <th>7</th>\n",
       "      <td>8</td>\n",
       "      <td>0</td>\n",
       "      <td>Palsson, Master. Gosta Leonard</td>\n",
       "      <td>2.000000</td>\n",
       "      <td>3</td>\n",
       "      <td>1</td>\n",
       "      <td>349909</td>\n",
       "      <td>21.0750</td>\n",
       "      <td>NaN</td>\n",
       "      <td>S</td>\n",
       "      <td>...</td>\n",
       "      <td>0</td>\n",
       "      <td>1</td>\n",
       "      <td>0</td>\n",
       "      <td>1</td>\n",
       "      <td>1</td>\n",
       "      <td>0</td>\n",
       "      <td>0</td>\n",
       "      <td>0</td>\n",
       "      <td>0</td>\n",
       "      <td>0</td>\n",
       "    </tr>\n",
       "    <tr>\n",
       "      <th>8</th>\n",
       "      <td>9</td>\n",
       "      <td>1</td>\n",
       "      <td>Johnson, Mrs. Oscar W (Elisabeth Vilhelmina Berg)</td>\n",
       "      <td>27.000000</td>\n",
       "      <td>0</td>\n",
       "      <td>2</td>\n",
       "      <td>347742</td>\n",
       "      <td>11.1333</td>\n",
       "      <td>NaN</td>\n",
       "      <td>S</td>\n",
       "      <td>...</td>\n",
       "      <td>0</td>\n",
       "      <td>1</td>\n",
       "      <td>1</td>\n",
       "      <td>0</td>\n",
       "      <td>0</td>\n",
       "      <td>1</td>\n",
       "      <td>0</td>\n",
       "      <td>0</td>\n",
       "      <td>0</td>\n",
       "      <td>0</td>\n",
       "    </tr>\n",
       "    <tr>\n",
       "      <th>9</th>\n",
       "      <td>10</td>\n",
       "      <td>1</td>\n",
       "      <td>Nasser, Mrs. Nicholas (Adele Achem)</td>\n",
       "      <td>14.000000</td>\n",
       "      <td>1</td>\n",
       "      <td>0</td>\n",
       "      <td>237736</td>\n",
       "      <td>30.0708</td>\n",
       "      <td>NaN</td>\n",
       "      <td>C</td>\n",
       "      <td>...</td>\n",
       "      <td>1</td>\n",
       "      <td>0</td>\n",
       "      <td>0</td>\n",
       "      <td>1</td>\n",
       "      <td>1</td>\n",
       "      <td>0</td>\n",
       "      <td>0</td>\n",
       "      <td>0</td>\n",
       "      <td>0</td>\n",
       "      <td>0</td>\n",
       "    </tr>\n",
       "  </tbody>\n",
       "</table>\n",
       "<p>10 rows × 26 columns</p>\n",
       "</div>"
      ],
      "text/plain": [
       "   PassengerId  Survived                                               Name  \\\n",
       "0            1         0                            Braund, Mr. Owen Harris   \n",
       "1            2         1  Cumings, Mrs. John Bradley (Florence Briggs Th...   \n",
       "2            3         1                             Heikkinen, Miss. Laina   \n",
       "3            4         1       Futrelle, Mrs. Jacques Heath (Lily May Peel)   \n",
       "4            5         0                           Allen, Mr. William Henry   \n",
       "5            6         0                                   Moran, Mr. James   \n",
       "6            7         0                            McCarthy, Mr. Timothy J   \n",
       "7            8         0                     Palsson, Master. Gosta Leonard   \n",
       "8            9         1  Johnson, Mrs. Oscar W (Elisabeth Vilhelmina Berg)   \n",
       "9           10         1                Nasser, Mrs. Nicholas (Adele Achem)   \n",
       "\n",
       "       Age_x  SibSp  Parch            Ticket     Fare Cabin Embarked  ...  \\\n",
       "0  22.000000      1      0         A/5 21171   7.2500   NaN        S  ...   \n",
       "1  38.000000      1      0          PC 17599  71.2833   C85        C  ...   \n",
       "2  26.000000      0      0  STON/O2. 3101282   7.9250   NaN        S  ...   \n",
       "3  35.000000      1      0            113803  53.1000  C123        S  ...   \n",
       "4  35.000000      0      0            373450   8.0500   NaN        S  ...   \n",
       "5  26.507589      0      0            330877   8.4583   NaN        Q  ...   \n",
       "6  54.000000      0      0             17463  51.8625   E46        S  ...   \n",
       "7   2.000000      3      1            349909  21.0750   NaN        S  ...   \n",
       "8  27.000000      0      2            347742  11.1333   NaN        S  ...   \n",
       "9  14.000000      1      0            237736  30.0708   NaN        C  ...   \n",
       "\n",
       "   Parch_False  Parch_True  SibSp_False  SibSp_True  AgeRange_0-20  \\\n",
       "0            1           0            0           1              0   \n",
       "1            1           0            0           1              0   \n",
       "2            1           0            1           0              0   \n",
       "3            1           0            0           1              0   \n",
       "4            1           0            1           0              0   \n",
       "5            1           0            1           0              0   \n",
       "6            1           0            1           0              0   \n",
       "7            0           1            0           1              1   \n",
       "8            0           1            1           0              0   \n",
       "9            1           0            0           1              1   \n",
       "\n",
       "   AgeRange_20-29  AgeRange_30-39  AgeRange_40-49  AgeRange_50+  \\\n",
       "0               1               0               0             0   \n",
       "1               0               1               0             0   \n",
       "2               1               0               0             0   \n",
       "3               0               1               0             0   \n",
       "4               0               1               0             0   \n",
       "5               0               0               0             0   \n",
       "6               0               0               0             1   \n",
       "7               0               0               0             0   \n",
       "8               1               0               0             0   \n",
       "9               0               0               0             0   \n",
       "\n",
       "   AgeRange_No Age  \n",
       "0                0  \n",
       "1                0  \n",
       "2                0  \n",
       "3                0  \n",
       "4                0  \n",
       "5                1  \n",
       "6                0  \n",
       "7                0  \n",
       "8                0  \n",
       "9                0  \n",
       "\n",
       "[10 rows x 26 columns]"
      ]
     },
     "execution_count": 87,
     "metadata": {},
     "output_type": "execute_result"
    }
   ],
   "source": [
    "titanic_train2.head(10)"
   ]
  },
  {
   "cell_type": "code",
   "execution_count": 127,
   "metadata": {},
   "outputs": [
    {
     "data": {
      "text/plain": [
       "['PassengerId',\n",
       " 'Survived',\n",
       " 'Name',\n",
       " 'Age_x',\n",
       " 'SibSp',\n",
       " 'Parch',\n",
       " 'Ticket',\n",
       " 'Fare',\n",
       " 'Cabin',\n",
       " 'Embarked',\n",
       " 'Age_y',\n",
       " 'Sex_female',\n",
       " 'Sex_male',\n",
       " 'Class_1',\n",
       " 'Class_2',\n",
       " 'Class_3',\n",
       " 'Parch_False',\n",
       " 'Parch_True',\n",
       " 'SibSp_False',\n",
       " 'SibSp_True',\n",
       " 'AgeRange_0-20',\n",
       " 'AgeRange_20-29',\n",
       " 'AgeRange_30-39',\n",
       " 'AgeRange_40-49',\n",
       " 'AgeRange_50+',\n",
       " 'AgeRange_No Age']"
      ]
     },
     "execution_count": 127,
     "metadata": {},
     "output_type": "execute_result"
    }
   ],
   "source": [
    "list(titanic_train2.columns)"
   ]
  },
  {
   "cell_type": "code",
   "execution_count": 147,
   "metadata": {},
   "outputs": [],
   "source": [
    "#dataset = titanic_train2[['Class_1', 'Class_2', 'Sex_male', 'Parch_True', 'SibSp_True','Age_x', 'Fare', 'Survived']]\n",
    "dataset = titanic_train2[['Class_1', 'Class_2', 'Sex_male', 'Parch_True', 'SibSp_True', 'AgeRange_20-29', \n",
    "                          'AgeRange_30-39','AgeRange_40-49', 'AgeRange_50+', 'AgeRange_No Age', 'Fare', 'Survived']]"
   ]
  },
  {
   "cell_type": "code",
   "execution_count": 148,
   "metadata": {},
   "outputs": [
    {
     "name": "stdout",
     "output_type": "stream",
     "text": [
      "     Class_1  Class_2  Sex_male  Parch_True  SibSp_True  AgeRange_20-29  \\\n",
      "0          0        0         1           0           1               1   \n",
      "1          1        0         0           0           1               0   \n",
      "2          0        0         0           0           0               1   \n",
      "3          1        0         0           0           1               0   \n",
      "4          0        0         1           0           0               0   \n",
      "..       ...      ...       ...         ...         ...             ...   \n",
      "886        0        1         1           0           0               1   \n",
      "887        1        0         0           0           0               0   \n",
      "888        0        0         0           1           1               0   \n",
      "889        1        0         1           0           0               1   \n",
      "890        0        0         1           0           0               0   \n",
      "\n",
      "     AgeRange_30-39  AgeRange_40-49  AgeRange_50+  AgeRange_No Age     Fare  \\\n",
      "0                 0               0             0                0   7.2500   \n",
      "1                 1               0             0                0  71.2833   \n",
      "2                 0               0             0                0   7.9250   \n",
      "3                 1               0             0                0  53.1000   \n",
      "4                 1               0             0                0   8.0500   \n",
      "..              ...             ...           ...              ...      ...   \n",
      "886               0               0             0                0  13.0000   \n",
      "887               0               0             0                0  30.0000   \n",
      "888               0               0             0                1  23.4500   \n",
      "889               0               0             0                0  30.0000   \n",
      "890               1               0             0                0   7.7500   \n",
      "\n",
      "     Survived  \n",
      "0           0  \n",
      "1           1  \n",
      "2           1  \n",
      "3           1  \n",
      "4           0  \n",
      "..        ...  \n",
      "886         0  \n",
      "887         1  \n",
      "888         0  \n",
      "889         1  \n",
      "890         0  \n",
      "\n",
      "[891 rows x 12 columns]\n"
     ]
    }
   ],
   "source": [
    "print(dataset)"
   ]
  },
  {
   "cell_type": "markdown",
   "metadata": {},
   "source": [
    "## Deal with missing data"
   ]
  },
  {
   "cell_type": "code",
   "execution_count": 105,
   "metadata": {},
   "outputs": [
    {
     "name": "stdout",
     "output_type": "stream",
     "text": [
      " \n",
      "Count total NaN at each column in a DataFrame : \n",
      "\n",
      " Class_1       0\n",
      "Class_2       0\n",
      "Sex_male      0\n",
      "Parch_True    0\n",
      "SibSp_True    0\n",
      "Age_x         0\n",
      "Fare          0\n",
      "Survived      0\n",
      "dtype: int64\n"
     ]
    }
   ],
   "source": [
    "# Count total NaN at each column in a DataFrame \n",
    "# No longer necessary!\n",
    "print(\" \\nCount total NaN at each column in a DataFrame : \\n\\n\", \n",
    "      dataset.isnull().sum()) "
   ]
  },
  {
   "cell_type": "markdown",
   "metadata": {},
   "source": [
    "## Split into X and y"
   ]
  },
  {
   "cell_type": "code",
   "execution_count": 151,
   "metadata": {},
   "outputs": [],
   "source": [
    "X = dataset.iloc[:,:-1]\n",
    "y = dataset.iloc[:,-1]"
   ]
  },
  {
   "cell_type": "code",
   "execution_count": 107,
   "metadata": {},
   "outputs": [
    {
     "name": "stdout",
     "output_type": "stream",
     "text": [
      "     Class_1  Class_2  Sex_male  Parch_True  SibSp_True  Age_x     Fare\n",
      "0          0        0         1           0           1  22.00   7.2500\n",
      "1          1        0         0           0           1  38.00  71.2833\n",
      "2          0        0         0           0           0  26.00   7.9250\n",
      "3          1        0         0           0           1  35.00  53.1000\n",
      "4          0        0         1           0           0  35.00   8.0500\n",
      "..       ...      ...       ...         ...         ...    ...      ...\n",
      "886        0        1         1           0           0  27.00  13.0000\n",
      "887        1        0         0           0           0  19.00  30.0000\n",
      "888        0        0         0           1           1  21.75  23.4500\n",
      "889        1        0         1           0           0  26.00  30.0000\n",
      "890        0        0         1           0           0  32.00   7.7500\n",
      "\n",
      "[891 rows x 7 columns]\n"
     ]
    }
   ],
   "source": [
    "print(X)"
   ]
  },
  {
   "cell_type": "code",
   "execution_count": 100,
   "metadata": {},
   "outputs": [
    {
     "name": "stdout",
     "output_type": "stream",
     "text": [
      "0      0\n",
      "1      1\n",
      "2      1\n",
      "3      1\n",
      "4      0\n",
      "      ..\n",
      "886    0\n",
      "887    1\n",
      "888    0\n",
      "889    1\n",
      "890    0\n",
      "Name: Survived, Length: 891, dtype: int64\n"
     ]
    }
   ],
   "source": [
    "print(y)"
   ]
  },
  {
   "cell_type": "markdown",
   "metadata": {},
   "source": [
    "## Split Data into Train and Test"
   ]
  },
  {
   "cell_type": "code",
   "execution_count": 152,
   "metadata": {},
   "outputs": [],
   "source": [
    "from sklearn.model_selection import train_test_split\n",
    "X=X.values\n",
    "y=y.values\n",
    "X_train, X_test, y_train, y_test = train_test_split(X, y, test_size = 0.2, random_state = 1)"
   ]
  },
  {
   "cell_type": "markdown",
   "metadata": {},
   "source": [
    "## Scale Variables"
   ]
  },
  {
   "cell_type": "code",
   "execution_count": 153,
   "metadata": {},
   "outputs": [],
   "source": [
    "from sklearn.preprocessing import StandardScaler\n",
    "sc = StandardScaler()\n",
    "# only transform age and fare, not categorical variables!\n",
    "X_train[:,10:] = sc.fit_transform(X_train[:,10:])\n",
    "X_test[:,10:] = sc.transform(X_test[:,10:])"
   ]
  },
  {
   "cell_type": "code",
   "execution_count": 154,
   "metadata": {},
   "outputs": [
    {
     "name": "stdout",
     "output_type": "stream",
     "text": [
      "[[ 0.          0.          1.         ...  0.          1.\n",
      "  -0.18801432]\n",
      " [ 1.          0.          0.         ...  0.          0.\n",
      "   0.53969044]\n",
      " [ 0.          1.          0.         ...  0.          0.\n",
      "  -0.46350293]\n",
      " ...\n",
      " [ 0.          1.          1.         ...  0.          0.\n",
      "   0.89773487]\n",
      " [ 0.          0.          0.         ...  0.          1.\n",
      "  -0.52724343]\n",
      " [ 0.          0.          1.         ...  0.          0.\n",
      "  -0.51643995]]\n"
     ]
    }
   ],
   "source": [
    "print(X_train)"
   ]
  },
  {
   "cell_type": "code",
   "execution_count": 111,
   "metadata": {},
   "outputs": [
    {
     "name": "stdout",
     "output_type": "stream",
     "text": [
      "[[ 1.          0.          0.         ...  0.          1.34864039\n",
      "  -0.13012499]\n",
      " [ 0.          0.          1.         ...  0.         -0.23667089\n",
      "  -0.51977174]\n",
      " [ 0.          1.          0.         ...  0.         -0.93796437\n",
      "  -0.46350293]\n",
      " ...\n",
      " [ 0.          0.          1.         ...  0.         -0.23667089\n",
      "  -0.52328287]\n",
      " [ 0.          0.          1.         ...  0.         -0.6429186\n",
      "  -0.52328287]\n",
      " [ 0.          0.          0.         ...  1.         -1.8231017\n",
      "  -0.27426278]]\n"
     ]
    }
   ],
   "source": [
    "print(X_test)"
   ]
  },
  {
   "cell_type": "markdown",
   "metadata": {},
   "source": [
    "## Train Classification Models"
   ]
  },
  {
   "cell_type": "code",
   "execution_count": 155,
   "metadata": {},
   "outputs": [],
   "source": [
    "# import packages from machine learning course\n",
    "from sklearn.linear_model import LogisticRegression \n",
    "from sklearn.neighbors import KNeighborsClassifier\n",
    "from sklearn.svm import SVC \n",
    "from sklearn.tree import DecisionTreeClassifier\n",
    "from sklearn.ensemble import RandomForestClassifier\n",
    "from sklearn.naive_bayes import GaussianNB"
   ]
  },
  {
   "cell_type": "code",
   "execution_count": 156,
   "metadata": {},
   "outputs": [
    {
     "data": {
      "text/plain": [
       "LogisticRegression(random_state=0)"
      ]
     },
     "execution_count": 156,
     "metadata": {},
     "output_type": "execute_result"
    }
   ],
   "source": [
    "# logistic regression\n",
    "classifier_logistic = LogisticRegression(random_state = 0)\n",
    "classifier_logistic.fit(X_train, y_train)"
   ]
  },
  {
   "cell_type": "code",
   "execution_count": 157,
   "metadata": {},
   "outputs": [
    {
     "data": {
      "text/plain": [
       "KNeighborsClassifier()"
      ]
     },
     "execution_count": 157,
     "metadata": {},
     "output_type": "execute_result"
    }
   ],
   "source": [
    "# k nearest neighbors\n",
    "classifier_knn = KNeighborsClassifier(n_neighbors = 5, metric = 'minkowski', p = 2)\n",
    "classifier_knn.fit(X_train, y_train)"
   ]
  },
  {
   "cell_type": "code",
   "execution_count": 159,
   "metadata": {},
   "outputs": [
    {
     "data": {
      "text/plain": [
       "SVC(kernel='linear', random_state=0)"
      ]
     },
     "execution_count": 159,
     "metadata": {},
     "output_type": "execute_result"
    }
   ],
   "source": [
    "# support vector machine linear kernal\n",
    "classifier_svm = SVC(kernel = 'linear', random_state = 0)\n",
    "classifier_svm.fit(X_train, y_train)"
   ]
  },
  {
   "cell_type": "code",
   "execution_count": 158,
   "metadata": {},
   "outputs": [
    {
     "data": {
      "text/plain": [
       "SVC(random_state=0)"
      ]
     },
     "execution_count": 158,
     "metadata": {},
     "output_type": "execute_result"
    }
   ],
   "source": [
    "# support vector machine non-linear kernal\n",
    "classifier_svm2 = SVC(kernel = 'rbf', random_state = 0)\n",
    "classifier_svm2.fit(X_train, y_train)"
   ]
  },
  {
   "cell_type": "code",
   "execution_count": 160,
   "metadata": {},
   "outputs": [
    {
     "data": {
      "text/plain": [
       "DecisionTreeClassifier(criterion='entropy', random_state=0)"
      ]
     },
     "execution_count": 160,
     "metadata": {},
     "output_type": "execute_result"
    }
   ],
   "source": [
    "# decision tree\n",
    "classifier_tree = DecisionTreeClassifier(criterion = 'entropy', random_state = 0)\n",
    "classifier_tree.fit(X_train, y_train)"
   ]
  },
  {
   "cell_type": "code",
   "execution_count": 161,
   "metadata": {},
   "outputs": [
    {
     "data": {
      "text/plain": [
       "RandomForestClassifier(criterion='entropy', n_estimators=10, random_state=0)"
      ]
     },
     "execution_count": 161,
     "metadata": {},
     "output_type": "execute_result"
    }
   ],
   "source": [
    "# random forest\n",
    "classifier_rf = RandomForestClassifier(n_estimators = 10, criterion = 'entropy', random_state = 0)\n",
    "classifier_rf.fit(X_train, y_train)"
   ]
  },
  {
   "cell_type": "code",
   "execution_count": 162,
   "metadata": {},
   "outputs": [
    {
     "data": {
      "text/plain": [
       "GaussianNB()"
      ]
     },
     "execution_count": 162,
     "metadata": {},
     "output_type": "execute_result"
    }
   ],
   "source": [
    "# naive bayes\n",
    "classifier_nb = GaussianNB()\n",
    "classifier_nb.fit(X_train, y_train)"
   ]
  },
  {
   "cell_type": "markdown",
   "metadata": {},
   "source": [
    "##  Accuracy on test set?"
   ]
  },
  {
   "cell_type": "code",
   "execution_count": 32,
   "metadata": {},
   "outputs": [],
   "source": [
    "# import packages\n",
    "from sklearn.metrics import confusion_matrix, accuracy_score"
   ]
  },
  {
   "cell_type": "code",
   "execution_count": 163,
   "metadata": {},
   "outputs": [
    {
     "name": "stdout",
     "output_type": "stream",
     "text": [
      "[[92 14]\n",
      " [30 43]]\n"
     ]
    },
    {
     "data": {
      "text/plain": [
       "0.7541899441340782"
      ]
     },
     "execution_count": 163,
     "metadata": {},
     "output_type": "execute_result"
    }
   ],
   "source": [
    "y_pred = classifier_logistic.predict(X_test)\n",
    "cm = confusion_matrix(y_test, y_pred)\n",
    "print(cm)\n",
    "accuracy_score(y_test, y_pred)"
   ]
  },
  {
   "cell_type": "code",
   "execution_count": 164,
   "metadata": {},
   "outputs": [
    {
     "name": "stdout",
     "output_type": "stream",
     "text": [
      "[[91 15]\n",
      " [32 41]]\n"
     ]
    },
    {
     "data": {
      "text/plain": [
       "0.7374301675977654"
      ]
     },
     "execution_count": 164,
     "metadata": {},
     "output_type": "execute_result"
    }
   ],
   "source": [
    "y_pred = classifier_knn.predict(X_test)\n",
    "cm = confusion_matrix(y_test, y_pred)\n",
    "print(cm)\n",
    "accuracy_score(y_test, y_pred)"
   ]
  },
  {
   "cell_type": "code",
   "execution_count": 165,
   "metadata": {},
   "outputs": [
    {
     "name": "stdout",
     "output_type": "stream",
     "text": [
      "[[90 16]\n",
      " [24 49]]\n"
     ]
    },
    {
     "data": {
      "text/plain": [
       "0.776536312849162"
      ]
     },
     "execution_count": 165,
     "metadata": {},
     "output_type": "execute_result"
    }
   ],
   "source": [
    "y_pred = classifier_svm.predict(X_test)\n",
    "cm = confusion_matrix(y_test, y_pred)\n",
    "print(cm)\n",
    "accuracy_score(y_test, y_pred)"
   ]
  },
  {
   "cell_type": "code",
   "execution_count": 166,
   "metadata": {},
   "outputs": [
    {
     "name": "stdout",
     "output_type": "stream",
     "text": [
      "[[92 14]\n",
      " [27 46]]\n"
     ]
    },
    {
     "data": {
      "text/plain": [
       "0.770949720670391"
      ]
     },
     "execution_count": 166,
     "metadata": {},
     "output_type": "execute_result"
    }
   ],
   "source": [
    "y_pred = classifier_svm2.predict(X_test)\n",
    "cm = confusion_matrix(y_test, y_pred)\n",
    "print(cm)\n",
    "accuracy_score(y_test, y_pred)"
   ]
  },
  {
   "cell_type": "code",
   "execution_count": 167,
   "metadata": {},
   "outputs": [
    {
     "name": "stdout",
     "output_type": "stream",
     "text": [
      "[[90 16]\n",
      " [33 40]]\n"
     ]
    },
    {
     "data": {
      "text/plain": [
       "0.7262569832402235"
      ]
     },
     "execution_count": 167,
     "metadata": {},
     "output_type": "execute_result"
    }
   ],
   "source": [
    "y_pred = classifier_tree.predict(X_test)\n",
    "cm = confusion_matrix(y_test, y_pred)\n",
    "print(cm)\n",
    "accuracy_score(y_test, y_pred)"
   ]
  },
  {
   "cell_type": "code",
   "execution_count": 168,
   "metadata": {},
   "outputs": [
    {
     "name": "stdout",
     "output_type": "stream",
     "text": [
      "[[85 21]\n",
      " [32 41]]\n"
     ]
    },
    {
     "data": {
      "text/plain": [
       "0.7039106145251397"
      ]
     },
     "execution_count": 168,
     "metadata": {},
     "output_type": "execute_result"
    }
   ],
   "source": [
    "y_pred = classifier_rf.predict(X_test)\n",
    "cm = confusion_matrix(y_test, y_pred)\n",
    "print(cm)\n",
    "accuracy_score(y_test, y_pred)"
   ]
  },
  {
   "cell_type": "code",
   "execution_count": 169,
   "metadata": {},
   "outputs": [
    {
     "name": "stdout",
     "output_type": "stream",
     "text": [
      "[[89 17]\n",
      " [33 40]]\n"
     ]
    },
    {
     "data": {
      "text/plain": [
       "0.7206703910614525"
      ]
     },
     "execution_count": 169,
     "metadata": {},
     "output_type": "execute_result"
    }
   ],
   "source": [
    "y_pred = classifier_nb.predict(X_test)\n",
    "cm = confusion_matrix(y_test, y_pred)\n",
    "print(cm)\n",
    "accuracy_score(y_test, y_pred)"
   ]
  },
  {
   "cell_type": "markdown",
   "metadata": {},
   "source": [
    "Doing bad now."
   ]
  },
  {
   "cell_type": "markdown",
   "metadata": {},
   "source": [
    "## NEURAL NET TIME"
   ]
  },
  {
   "cell_type": "code",
   "execution_count": 171,
   "metadata": {},
   "outputs": [],
   "source": [
    "# load packages\n",
    "import tensorflow as tf"
   ]
  },
  {
   "cell_type": "code",
   "execution_count": 172,
   "metadata": {},
   "outputs": [],
   "source": [
    "# initialize ann\n",
    "ann = tf.keras.models.Sequential()"
   ]
  },
  {
   "cell_type": "code",
   "execution_count": 191,
   "metadata": {},
   "outputs": [],
   "source": [
    "# ADD ALL THE LAYERS\n",
    "ann.add(tf.keras.layers.Dense(units=8, activation='relu'))\n",
    "ann.add(tf.keras.layers.Dense(units=8, activation='relu'))\n",
    "ann.add(tf.keras.layers.Dense(units=8, activation='relu'))\n",
    "ann.add(tf.keras.layers.Dense(units=8, activation='relu'))\n",
    "ann.add(tf.keras.layers.Dense(units=1, activation='sigmoid'))"
   ]
  },
  {
   "cell_type": "code",
   "execution_count": 192,
   "metadata": {},
   "outputs": [],
   "source": [
    "# compile the ANN\n",
    "ann.compile(optimizer = 'adam', loss = 'binary_crossentropy', metrics = ['accuracy'])"
   ]
  },
  {
   "cell_type": "code",
   "execution_count": 193,
   "metadata": {},
   "outputs": [
    {
     "name": "stdout",
     "output_type": "stream",
     "text": [
      "Train on 712 samples\n",
      "Epoch 1/100\n",
      "712/712 [==============================] - 1s 1ms/sample - loss: 0.6851 - accuracy: 0.8258\n",
      "Epoch 2/100\n",
      "712/712 [==============================] - 0s 57us/sample - loss: 0.6717 - accuracy: 0.8371\n",
      "Epoch 3/100\n",
      "712/712 [==============================] - 0s 58us/sample - loss: 0.6541 - accuracy: 0.8371\n",
      "Epoch 4/100\n",
      "712/712 [==============================] - 0s 57us/sample - loss: 0.6300 - accuracy: 0.8455\n",
      "Epoch 5/100\n",
      "712/712 [==============================] - 0s 55us/sample - loss: 0.5920 - accuracy: 0.8469\n",
      "Epoch 6/100\n",
      "712/712 [==============================] - 0s 52us/sample - loss: 0.5401 - accuracy: 0.8469\n",
      "Epoch 7/100\n",
      "712/712 [==============================] - 0s 53us/sample - loss: 0.4862 - accuracy: 0.8441\n",
      "Epoch 8/100\n",
      "712/712 [==============================] - 0s 54us/sample - loss: 0.4425 - accuracy: 0.8469\n",
      "Epoch 9/100\n",
      "712/712 [==============================] - 0s 53us/sample - loss: 0.4131 - accuracy: 0.8553\n",
      "Epoch 10/100\n",
      "712/712 [==============================] - 0s 51us/sample - loss: 0.3975 - accuracy: 0.8581\n",
      "Epoch 11/100\n",
      "712/712 [==============================] - 0s 53us/sample - loss: 0.3904 - accuracy: 0.8596\n",
      "Epoch 12/100\n",
      "712/712 [==============================] - 0s 54us/sample - loss: 0.3890 - accuracy: 0.8581\n",
      "Epoch 13/100\n",
      "712/712 [==============================] - 0s 53us/sample - loss: 0.3877 - accuracy: 0.8581\n",
      "Epoch 14/100\n",
      "712/712 [==============================] - 0s 52us/sample - loss: 0.3888 - accuracy: 0.8596\n",
      "Epoch 15/100\n",
      "712/712 [==============================] - 0s 53us/sample - loss: 0.3860 - accuracy: 0.8596\n",
      "Epoch 16/100\n",
      "712/712 [==============================] - 0s 52us/sample - loss: 0.3848 - accuracy: 0.8624\n",
      "Epoch 17/100\n",
      "712/712 [==============================] - 0s 52us/sample - loss: 0.3847 - accuracy: 0.8610\n",
      "Epoch 18/100\n",
      "712/712 [==============================] - 0s 52us/sample - loss: 0.3842 - accuracy: 0.8610\n",
      "Epoch 19/100\n",
      "712/712 [==============================] - 0s 52us/sample - loss: 0.3844 - accuracy: 0.8567\n",
      "Epoch 20/100\n",
      "712/712 [==============================] - 0s 53us/sample - loss: 0.3850 - accuracy: 0.8525\n",
      "Epoch 21/100\n",
      "712/712 [==============================] - 0s 52us/sample - loss: 0.3854 - accuracy: 0.8567\n",
      "Epoch 22/100\n",
      "712/712 [==============================] - 0s 52us/sample - loss: 0.3823 - accuracy: 0.8581\n",
      "Epoch 23/100\n",
      "712/712 [==============================] - 0s 53us/sample - loss: 0.3826 - accuracy: 0.8610\n",
      "Epoch 24/100\n",
      "712/712 [==============================] - 0s 52us/sample - loss: 0.3822 - accuracy: 0.8596\n",
      "Epoch 25/100\n",
      "712/712 [==============================] - 0s 52us/sample - loss: 0.3805 - accuracy: 0.8652\n",
      "Epoch 26/100\n",
      "712/712 [==============================] - 0s 52us/sample - loss: 0.3826 - accuracy: 0.8624\n",
      "Epoch 27/100\n",
      "712/712 [==============================] - 0s 52us/sample - loss: 0.3810 - accuracy: 0.8581\n",
      "Epoch 28/100\n",
      "712/712 [==============================] - 0s 52us/sample - loss: 0.3820 - accuracy: 0.8610\n",
      "Epoch 29/100\n",
      "712/712 [==============================] - 0s 51us/sample - loss: 0.3833 - accuracy: 0.8567\n",
      "Epoch 30/100\n",
      "712/712 [==============================] - 0s 52us/sample - loss: 0.3785 - accuracy: 0.8596\n",
      "Epoch 31/100\n",
      "712/712 [==============================] - 0s 51us/sample - loss: 0.3784 - accuracy: 0.8610\n",
      "Epoch 32/100\n",
      "712/712 [==============================] - 0s 51us/sample - loss: 0.3779 - accuracy: 0.8596\n",
      "Epoch 33/100\n",
      "712/712 [==============================] - 0s 51us/sample - loss: 0.3792 - accuracy: 0.8624\n",
      "Epoch 34/100\n",
      "712/712 [==============================] - 0s 52us/sample - loss: 0.3773 - accuracy: 0.8610\n",
      "Epoch 35/100\n",
      "712/712 [==============================] - 0s 53us/sample - loss: 0.3773 - accuracy: 0.8652\n",
      "Epoch 36/100\n",
      "712/712 [==============================] - 0s 53us/sample - loss: 0.3775 - accuracy: 0.8596\n",
      "Epoch 37/100\n",
      "712/712 [==============================] - 0s 53us/sample - loss: 0.3794 - accuracy: 0.8610\n",
      "Epoch 38/100\n",
      "712/712 [==============================] - 0s 53us/sample - loss: 0.3779 - accuracy: 0.8581\n",
      "Epoch 39/100\n",
      "712/712 [==============================] - 0s 53us/sample - loss: 0.3768 - accuracy: 0.8638\n",
      "Epoch 40/100\n",
      "712/712 [==============================] - 0s 53us/sample - loss: 0.3758 - accuracy: 0.8652\n",
      "Epoch 41/100\n",
      "712/712 [==============================] - 0s 54us/sample - loss: 0.3756 - accuracy: 0.8624\n",
      "Epoch 42/100\n",
      "712/712 [==============================] - 0s 52us/sample - loss: 0.3762 - accuracy: 0.8610\n",
      "Epoch 43/100\n",
      "712/712 [==============================] - 0s 52us/sample - loss: 0.3761 - accuracy: 0.8624\n",
      "Epoch 44/100\n",
      "712/712 [==============================] - 0s 52us/sample - loss: 0.3743 - accuracy: 0.8567\n",
      "Epoch 45/100\n",
      "712/712 [==============================] - 0s 52us/sample - loss: 0.3755 - accuracy: 0.8652\n",
      "Epoch 46/100\n",
      "712/712 [==============================] - 0s 53us/sample - loss: 0.3762 - accuracy: 0.8539\n",
      "Epoch 47/100\n",
      "712/712 [==============================] - 0s 52us/sample - loss: 0.3735 - accuracy: 0.8638\n",
      "Epoch 48/100\n",
      "712/712 [==============================] - 0s 52us/sample - loss: 0.3781 - accuracy: 0.8525\n",
      "Epoch 49/100\n",
      "712/712 [==============================] - 0s 52us/sample - loss: 0.3739 - accuracy: 0.8680\n",
      "Epoch 50/100\n",
      "712/712 [==============================] - 0s 53us/sample - loss: 0.3745 - accuracy: 0.8455\n",
      "Epoch 51/100\n",
      "712/712 [==============================] - 0s 53us/sample - loss: 0.3770 - accuracy: 0.8624\n",
      "Epoch 52/100\n",
      "712/712 [==============================] - 0s 52us/sample - loss: 0.3730 - accuracy: 0.8596\n",
      "Epoch 53/100\n",
      "712/712 [==============================] - 0s 52us/sample - loss: 0.3724 - accuracy: 0.8638\n",
      "Epoch 54/100\n",
      "712/712 [==============================] - 0s 51us/sample - loss: 0.3746 - accuracy: 0.8666\n",
      "Epoch 55/100\n",
      "712/712 [==============================] - 0s 52us/sample - loss: 0.3749 - accuracy: 0.8553\n",
      "Epoch 56/100\n",
      "712/712 [==============================] - 0s 53us/sample - loss: 0.3724 - accuracy: 0.8666\n",
      "Epoch 57/100\n",
      "712/712 [==============================] - 0s 52us/sample - loss: 0.3733 - accuracy: 0.8666\n",
      "Epoch 58/100\n",
      "712/712 [==============================] - 0s 52us/sample - loss: 0.3726 - accuracy: 0.8638\n",
      "Epoch 59/100\n",
      "712/712 [==============================] - 0s 51us/sample - loss: 0.3727 - accuracy: 0.8610\n",
      "Epoch 60/100\n",
      "712/712 [==============================] - 0s 52us/sample - loss: 0.3736 - accuracy: 0.8567\n",
      "Epoch 61/100\n",
      "712/712 [==============================] - 0s 53us/sample - loss: 0.3712 - accuracy: 0.8638\n",
      "Epoch 62/100\n",
      "712/712 [==============================] - 0s 52us/sample - loss: 0.3738 - accuracy: 0.8567\n",
      "Epoch 63/100\n",
      "712/712 [==============================] - 0s 51us/sample - loss: 0.3739 - accuracy: 0.8638\n",
      "Epoch 64/100\n",
      "712/712 [==============================] - 0s 53us/sample - loss: 0.3709 - accuracy: 0.8638\n",
      "Epoch 65/100\n",
      "712/712 [==============================] - 0s 52us/sample - loss: 0.3716 - accuracy: 0.8553\n",
      "Epoch 66/100\n",
      "712/712 [==============================] - 0s 54us/sample - loss: 0.3724 - accuracy: 0.8638\n",
      "Epoch 67/100\n",
      "712/712 [==============================] - 0s 53us/sample - loss: 0.3707 - accuracy: 0.8567\n",
      "Epoch 68/100\n",
      "712/712 [==============================] - 0s 52us/sample - loss: 0.3741 - accuracy: 0.8638\n",
      "Epoch 69/100\n",
      "712/712 [==============================] - 0s 52us/sample - loss: 0.3707 - accuracy: 0.8652\n",
      "Epoch 70/100\n",
      "712/712 [==============================] - 0s 51us/sample - loss: 0.3691 - accuracy: 0.8638\n",
      "Epoch 71/100\n",
      "712/712 [==============================] - 0s 52us/sample - loss: 0.3695 - accuracy: 0.8638\n",
      "Epoch 72/100\n",
      "712/712 [==============================] - 0s 52us/sample - loss: 0.3700 - accuracy: 0.8624\n",
      "Epoch 73/100\n",
      "712/712 [==============================] - 0s 53us/sample - loss: 0.3688 - accuracy: 0.8624\n",
      "Epoch 74/100\n",
      "712/712 [==============================] - 0s 53us/sample - loss: 0.3708 - accuracy: 0.8638\n",
      "Epoch 75/100\n",
      "712/712 [==============================] - 0s 53us/sample - loss: 0.3703 - accuracy: 0.8680\n",
      "Epoch 76/100\n",
      "712/712 [==============================] - 0s 52us/sample - loss: 0.3692 - accuracy: 0.8680\n",
      "Epoch 77/100\n",
      "712/712 [==============================] - 0s 53us/sample - loss: 0.3699 - accuracy: 0.8666\n",
      "Epoch 78/100\n"
     ]
    },
    {
     "name": "stdout",
     "output_type": "stream",
     "text": [
      "712/712 [==============================] - 0s 54us/sample - loss: 0.3702 - accuracy: 0.8652\n",
      "Epoch 79/100\n",
      "712/712 [==============================] - 0s 53us/sample - loss: 0.3691 - accuracy: 0.8624\n",
      "Epoch 80/100\n",
      "712/712 [==============================] - 0s 52us/sample - loss: 0.3695 - accuracy: 0.8638\n",
      "Epoch 81/100\n",
      "712/712 [==============================] - 0s 54us/sample - loss: 0.3694 - accuracy: 0.8610\n",
      "Epoch 82/100\n",
      "712/712 [==============================] - 0s 55us/sample - loss: 0.3680 - accuracy: 0.8624\n",
      "Epoch 83/100\n",
      "712/712 [==============================] - 0s 53us/sample - loss: 0.3685 - accuracy: 0.8638\n",
      "Epoch 84/100\n",
      "712/712 [==============================] - 0s 56us/sample - loss: 0.3688 - accuracy: 0.8666\n",
      "Epoch 85/100\n",
      "712/712 [==============================] - 0s 56us/sample - loss: 0.3671 - accuracy: 0.8652\n",
      "Epoch 86/100\n",
      "712/712 [==============================] - 0s 53us/sample - loss: 0.3683 - accuracy: 0.8638\n",
      "Epoch 87/100\n",
      "712/712 [==============================] - 0s 54us/sample - loss: 0.3707 - accuracy: 0.8652\n",
      "Epoch 88/100\n",
      "712/712 [==============================] - 0s 53us/sample - loss: 0.3661 - accuracy: 0.8680\n",
      "Epoch 89/100\n",
      "712/712 [==============================] - 0s 52us/sample - loss: 0.3719 - accuracy: 0.8596\n",
      "Epoch 90/100\n",
      "712/712 [==============================] - 0s 54us/sample - loss: 0.3681 - accuracy: 0.8624\n",
      "Epoch 91/100\n",
      "712/712 [==============================] - 0s 53us/sample - loss: 0.3723 - accuracy: 0.8680\n",
      "Epoch 92/100\n",
      "712/712 [==============================] - 0s 52us/sample - loss: 0.3700 - accuracy: 0.8581\n",
      "Epoch 93/100\n",
      "712/712 [==============================] - 0s 52us/sample - loss: 0.3684 - accuracy: 0.8638\n",
      "Epoch 94/100\n",
      "712/712 [==============================] - 0s 53us/sample - loss: 0.3683 - accuracy: 0.8680\n",
      "Epoch 95/100\n",
      "712/712 [==============================] - 0s 53us/sample - loss: 0.3678 - accuracy: 0.8652\n",
      "Epoch 96/100\n",
      "712/712 [==============================] - 0s 53us/sample - loss: 0.3672 - accuracy: 0.8638\n",
      "Epoch 97/100\n",
      "712/712 [==============================] - 0s 53us/sample - loss: 0.3684 - accuracy: 0.8581\n",
      "Epoch 98/100\n",
      "712/712 [==============================] - 0s 53us/sample - loss: 0.3667 - accuracy: 0.8610\n",
      "Epoch 99/100\n",
      "712/712 [==============================] - 0s 52us/sample - loss: 0.3722 - accuracy: 0.8567\n",
      "Epoch 100/100\n",
      "712/712 [==============================] - 0s 52us/sample - loss: 0.3656 - accuracy: 0.8652\n"
     ]
    },
    {
     "data": {
      "text/plain": [
       "<tensorflow.python.keras.callbacks.History at 0x7f079471e450>"
      ]
     },
     "execution_count": 193,
     "metadata": {},
     "output_type": "execute_result"
    }
   ],
   "source": [
    "ann.fit(X_train, y_train, batch_size = 32, epochs = 100)"
   ]
  },
  {
   "cell_type": "code",
   "execution_count": 200,
   "metadata": {},
   "outputs": [
    {
     "name": "stdout",
     "output_type": "stream",
     "text": [
      "[[1 1]\n",
      " [0 0]\n",
      " [1 1]\n",
      " [1 0]\n",
      " [1 1]\n",
      " [0 0]\n",
      " [0 0]\n",
      " [1 1]\n",
      " [0 0]\n",
      " [1 1]\n",
      " [0 0]\n",
      " [0 1]\n",
      " [0 0]\n",
      " [0 1]\n",
      " [1 1]\n",
      " [1 1]\n",
      " [0 0]\n",
      " [0 0]\n",
      " [0 0]\n",
      " [1 1]\n",
      " [0 0]\n",
      " [0 0]\n",
      " [1 1]\n",
      " [0 0]\n",
      " [1 0]\n",
      " [0 1]\n",
      " [1 1]\n",
      " [1 1]\n",
      " [0 0]\n",
      " [1 1]\n",
      " [0 0]\n",
      " [0 1]\n",
      " [1 0]\n",
      " [0 0]\n",
      " [0 0]\n",
      " [0 1]\n",
      " [1 1]\n",
      " [0 0]\n",
      " [0 1]\n",
      " [0 0]\n",
      " [0 1]\n",
      " [1 1]\n",
      " [1 1]\n",
      " [0 0]\n",
      " [1 1]\n",
      " [0 0]\n",
      " [0 0]\n",
      " [0 0]\n",
      " [0 1]\n",
      " [0 0]\n",
      " [0 0]\n",
      " [1 1]\n",
      " [0 0]\n",
      " [0 0]\n",
      " [0 1]\n",
      " [0 1]\n",
      " [0 0]\n",
      " [0 0]\n",
      " [0 0]\n",
      " [1 0]\n",
      " [0 0]\n",
      " [0 0]\n",
      " [0 0]\n",
      " [0 1]\n",
      " [0 1]\n",
      " [1 1]\n",
      " [0 1]\n",
      " [0 1]\n",
      " [1 0]\n",
      " [0 0]\n",
      " [0 0]\n",
      " [0 0]\n",
      " [0 0]\n",
      " [0 0]\n",
      " [1 0]\n",
      " [0 0]\n",
      " [1 1]\n",
      " [0 0]\n",
      " [0 0]\n",
      " [1 1]\n",
      " [0 1]\n",
      " [0 0]\n",
      " [0 0]\n",
      " [0 0]\n",
      " [1 1]\n",
      " [0 0]\n",
      " [0 0]\n",
      " [0 0]\n",
      " [0 0]\n",
      " [1 1]\n",
      " [1 0]\n",
      " [0 0]\n",
      " [0 0]\n",
      " [1 1]\n",
      " [0 0]\n",
      " [1 0]\n",
      " [0 0]\n",
      " [1 1]\n",
      " [0 0]\n",
      " [0 0]\n",
      " [0 0]\n",
      " [0 0]\n",
      " [0 1]\n",
      " [1 0]\n",
      " [1 1]\n",
      " [0 0]\n",
      " [0 0]\n",
      " [0 0]\n",
      " [0 0]\n",
      " [0 0]\n",
      " [0 1]\n",
      " [0 0]\n",
      " [0 0]\n",
      " [0 1]\n",
      " [0 0]\n",
      " [0 0]\n",
      " [0 0]\n",
      " [1 0]\n",
      " [1 1]\n",
      " [0 1]\n",
      " [1 1]\n",
      " [1 0]\n",
      " [0 0]\n",
      " [0 0]\n",
      " [1 1]\n",
      " [1 1]\n",
      " [1 1]\n",
      " [0 1]\n",
      " [0 0]\n",
      " [0 1]\n",
      " [0 0]\n",
      " [0 1]\n",
      " [0 1]\n",
      " [0 1]\n",
      " [0 1]\n",
      " [1 1]\n",
      " [1 1]\n",
      " [0 0]\n",
      " [1 0]\n",
      " [0 1]\n",
      " [1 0]\n",
      " [0 0]\n",
      " [1 1]\n",
      " [1 0]\n",
      " [0 1]\n",
      " [1 0]\n",
      " [0 0]\n",
      " [0 0]\n",
      " [1 0]\n",
      " [0 0]\n",
      " [1 1]\n",
      " [0 0]\n",
      " [0 0]\n",
      " [0 1]\n",
      " [0 1]\n",
      " [0 0]\n",
      " [0 0]\n",
      " [0 0]\n",
      " [1 1]\n",
      " [0 0]\n",
      " [0 0]\n",
      " [0 0]\n",
      " [0 1]\n",
      " [1 1]\n",
      " [0 0]\n",
      " [1 1]\n",
      " [1 1]\n",
      " [0 1]\n",
      " [0 0]\n",
      " [0 0]\n",
      " [0 1]\n",
      " [0 0]\n",
      " [1 1]\n",
      " [1 0]\n",
      " [1 1]\n",
      " [0 0]\n",
      " [0 0]\n",
      " [0 0]\n",
      " [0 1]]\n"
     ]
    }
   ],
   "source": [
    "# predictions on test set\n",
    "y_pred = ann.predict(X_test)\n",
    "y_pred = (y_pred > 0.5)\n",
    "print(np.concatenate((y_pred.reshape(len(y_pred),1), y_test.reshape(len(y_test),1)),1))"
   ]
  },
  {
   "cell_type": "code",
   "execution_count": 201,
   "metadata": {},
   "outputs": [
    {
     "name": "stdout",
     "output_type": "stream",
     "text": [
      "[[89 17]\n",
      " [33 40]]\n"
     ]
    },
    {
     "data": {
      "text/plain": [
       "0.7206703910614525"
      ]
     },
     "execution_count": 201,
     "metadata": {},
     "output_type": "execute_result"
    }
   ],
   "source": [
    "from sklearn.metrics import confusion_matrix, accuracy_score\n",
    "cm = confusion_matrix(y_test, y_pred)\n",
    "print(cm)\n",
    "accuracy_score(y_test, y_pred)"
   ]
  }
 ],
 "metadata": {
  "kernelspec": {
   "display_name": "Python 3",
   "language": "python",
   "name": "python3"
  },
  "language_info": {
   "codemirror_mode": {
    "name": "ipython",
    "version": 3
   },
   "file_extension": ".py",
   "mimetype": "text/x-python",
   "name": "python",
   "nbconvert_exporter": "python",
   "pygments_lexer": "ipython3",
   "version": "3.7.5"
  }
 },
 "nbformat": 4,
 "nbformat_minor": 2
}
