{
 "cells": [
  {
   "cell_type": "markdown",
   "metadata": {},
   "source": [
    "# Titanic Practice"
   ]
  },
  {
   "cell_type": "code",
   "execution_count": 2,
   "metadata": {},
   "outputs": [],
   "source": [
    "import numpy as np\n",
    "import matplotlib.pyplot as plt\n",
    "import pandas as pd"
   ]
  },
  {
   "cell_type": "code",
   "execution_count": 28,
   "metadata": {},
   "outputs": [],
   "source": [
    "titanic_train = pd.read_csv('../train.csv')\n",
    "# titanic_test = pd.read_csv('../test.csv')\n",
    "# we will use the training set as our full data set to \n",
    "# implement the steps of splitting data"
   ]
  },
  {
   "cell_type": "code",
   "execution_count": 29,
   "metadata": {},
   "outputs": [],
   "source": [
    "# encode categorial variables here\n",
    "titanic_train = pd.get_dummies(titanic_train, columns=['Sex', 'Pclass' ], prefix = ['Sex', 'Class'])"
   ]
  },
  {
   "cell_type": "code",
   "execution_count": 30,
   "metadata": {},
   "outputs": [
    {
     "data": {
      "text/plain": [
       "(891, 15)"
      ]
     },
     "execution_count": 30,
     "metadata": {},
     "output_type": "execute_result"
    }
   ],
   "source": [
    "titanic_train.shape"
   ]
  },
  {
   "cell_type": "code",
   "execution_count": 31,
   "metadata": {},
   "outputs": [
    {
     "data": {
      "text/html": [
       "<div>\n",
       "<style scoped>\n",
       "    .dataframe tbody tr th:only-of-type {\n",
       "        vertical-align: middle;\n",
       "    }\n",
       "\n",
       "    .dataframe tbody tr th {\n",
       "        vertical-align: top;\n",
       "    }\n",
       "\n",
       "    .dataframe thead th {\n",
       "        text-align: right;\n",
       "    }\n",
       "</style>\n",
       "<table border=\"1\" class=\"dataframe\">\n",
       "  <thead>\n",
       "    <tr style=\"text-align: right;\">\n",
       "      <th></th>\n",
       "      <th>PassengerId</th>\n",
       "      <th>Survived</th>\n",
       "      <th>Name</th>\n",
       "      <th>Age</th>\n",
       "      <th>SibSp</th>\n",
       "      <th>Parch</th>\n",
       "      <th>Ticket</th>\n",
       "      <th>Fare</th>\n",
       "      <th>Cabin</th>\n",
       "      <th>Embarked</th>\n",
       "      <th>Sex_female</th>\n",
       "      <th>Sex_male</th>\n",
       "      <th>Class_1</th>\n",
       "      <th>Class_2</th>\n",
       "      <th>Class_3</th>\n",
       "    </tr>\n",
       "  </thead>\n",
       "  <tbody>\n",
       "    <tr>\n",
       "      <th>0</th>\n",
       "      <td>1</td>\n",
       "      <td>0</td>\n",
       "      <td>Braund, Mr. Owen Harris</td>\n",
       "      <td>22.0</td>\n",
       "      <td>1</td>\n",
       "      <td>0</td>\n",
       "      <td>A/5 21171</td>\n",
       "      <td>7.2500</td>\n",
       "      <td>NaN</td>\n",
       "      <td>S</td>\n",
       "      <td>0</td>\n",
       "      <td>1</td>\n",
       "      <td>0</td>\n",
       "      <td>0</td>\n",
       "      <td>1</td>\n",
       "    </tr>\n",
       "    <tr>\n",
       "      <th>1</th>\n",
       "      <td>2</td>\n",
       "      <td>1</td>\n",
       "      <td>Cumings, Mrs. John Bradley (Florence Briggs Th...</td>\n",
       "      <td>38.0</td>\n",
       "      <td>1</td>\n",
       "      <td>0</td>\n",
       "      <td>PC 17599</td>\n",
       "      <td>71.2833</td>\n",
       "      <td>C85</td>\n",
       "      <td>C</td>\n",
       "      <td>1</td>\n",
       "      <td>0</td>\n",
       "      <td>1</td>\n",
       "      <td>0</td>\n",
       "      <td>0</td>\n",
       "    </tr>\n",
       "    <tr>\n",
       "      <th>2</th>\n",
       "      <td>3</td>\n",
       "      <td>1</td>\n",
       "      <td>Heikkinen, Miss. Laina</td>\n",
       "      <td>26.0</td>\n",
       "      <td>0</td>\n",
       "      <td>0</td>\n",
       "      <td>STON/O2. 3101282</td>\n",
       "      <td>7.9250</td>\n",
       "      <td>NaN</td>\n",
       "      <td>S</td>\n",
       "      <td>1</td>\n",
       "      <td>0</td>\n",
       "      <td>0</td>\n",
       "      <td>0</td>\n",
       "      <td>1</td>\n",
       "    </tr>\n",
       "    <tr>\n",
       "      <th>3</th>\n",
       "      <td>4</td>\n",
       "      <td>1</td>\n",
       "      <td>Futrelle, Mrs. Jacques Heath (Lily May Peel)</td>\n",
       "      <td>35.0</td>\n",
       "      <td>1</td>\n",
       "      <td>0</td>\n",
       "      <td>113803</td>\n",
       "      <td>53.1000</td>\n",
       "      <td>C123</td>\n",
       "      <td>S</td>\n",
       "      <td>1</td>\n",
       "      <td>0</td>\n",
       "      <td>1</td>\n",
       "      <td>0</td>\n",
       "      <td>0</td>\n",
       "    </tr>\n",
       "    <tr>\n",
       "      <th>4</th>\n",
       "      <td>5</td>\n",
       "      <td>0</td>\n",
       "      <td>Allen, Mr. William Henry</td>\n",
       "      <td>35.0</td>\n",
       "      <td>0</td>\n",
       "      <td>0</td>\n",
       "      <td>373450</td>\n",
       "      <td>8.0500</td>\n",
       "      <td>NaN</td>\n",
       "      <td>S</td>\n",
       "      <td>0</td>\n",
       "      <td>1</td>\n",
       "      <td>0</td>\n",
       "      <td>0</td>\n",
       "      <td>1</td>\n",
       "    </tr>\n",
       "    <tr>\n",
       "      <th>5</th>\n",
       "      <td>6</td>\n",
       "      <td>0</td>\n",
       "      <td>Moran, Mr. James</td>\n",
       "      <td>NaN</td>\n",
       "      <td>0</td>\n",
       "      <td>0</td>\n",
       "      <td>330877</td>\n",
       "      <td>8.4583</td>\n",
       "      <td>NaN</td>\n",
       "      <td>Q</td>\n",
       "      <td>0</td>\n",
       "      <td>1</td>\n",
       "      <td>0</td>\n",
       "      <td>0</td>\n",
       "      <td>1</td>\n",
       "    </tr>\n",
       "    <tr>\n",
       "      <th>6</th>\n",
       "      <td>7</td>\n",
       "      <td>0</td>\n",
       "      <td>McCarthy, Mr. Timothy J</td>\n",
       "      <td>54.0</td>\n",
       "      <td>0</td>\n",
       "      <td>0</td>\n",
       "      <td>17463</td>\n",
       "      <td>51.8625</td>\n",
       "      <td>E46</td>\n",
       "      <td>S</td>\n",
       "      <td>0</td>\n",
       "      <td>1</td>\n",
       "      <td>1</td>\n",
       "      <td>0</td>\n",
       "      <td>0</td>\n",
       "    </tr>\n",
       "    <tr>\n",
       "      <th>7</th>\n",
       "      <td>8</td>\n",
       "      <td>0</td>\n",
       "      <td>Palsson, Master. Gosta Leonard</td>\n",
       "      <td>2.0</td>\n",
       "      <td>3</td>\n",
       "      <td>1</td>\n",
       "      <td>349909</td>\n",
       "      <td>21.0750</td>\n",
       "      <td>NaN</td>\n",
       "      <td>S</td>\n",
       "      <td>0</td>\n",
       "      <td>1</td>\n",
       "      <td>0</td>\n",
       "      <td>0</td>\n",
       "      <td>1</td>\n",
       "    </tr>\n",
       "    <tr>\n",
       "      <th>8</th>\n",
       "      <td>9</td>\n",
       "      <td>1</td>\n",
       "      <td>Johnson, Mrs. Oscar W (Elisabeth Vilhelmina Berg)</td>\n",
       "      <td>27.0</td>\n",
       "      <td>0</td>\n",
       "      <td>2</td>\n",
       "      <td>347742</td>\n",
       "      <td>11.1333</td>\n",
       "      <td>NaN</td>\n",
       "      <td>S</td>\n",
       "      <td>1</td>\n",
       "      <td>0</td>\n",
       "      <td>0</td>\n",
       "      <td>0</td>\n",
       "      <td>1</td>\n",
       "    </tr>\n",
       "    <tr>\n",
       "      <th>9</th>\n",
       "      <td>10</td>\n",
       "      <td>1</td>\n",
       "      <td>Nasser, Mrs. Nicholas (Adele Achem)</td>\n",
       "      <td>14.0</td>\n",
       "      <td>1</td>\n",
       "      <td>0</td>\n",
       "      <td>237736</td>\n",
       "      <td>30.0708</td>\n",
       "      <td>NaN</td>\n",
       "      <td>C</td>\n",
       "      <td>1</td>\n",
       "      <td>0</td>\n",
       "      <td>0</td>\n",
       "      <td>1</td>\n",
       "      <td>0</td>\n",
       "    </tr>\n",
       "  </tbody>\n",
       "</table>\n",
       "</div>"
      ],
      "text/plain": [
       "   PassengerId  Survived                                               Name  \\\n",
       "0            1         0                            Braund, Mr. Owen Harris   \n",
       "1            2         1  Cumings, Mrs. John Bradley (Florence Briggs Th...   \n",
       "2            3         1                             Heikkinen, Miss. Laina   \n",
       "3            4         1       Futrelle, Mrs. Jacques Heath (Lily May Peel)   \n",
       "4            5         0                           Allen, Mr. William Henry   \n",
       "5            6         0                                   Moran, Mr. James   \n",
       "6            7         0                            McCarthy, Mr. Timothy J   \n",
       "7            8         0                     Palsson, Master. Gosta Leonard   \n",
       "8            9         1  Johnson, Mrs. Oscar W (Elisabeth Vilhelmina Berg)   \n",
       "9           10         1                Nasser, Mrs. Nicholas (Adele Achem)   \n",
       "\n",
       "    Age  SibSp  Parch            Ticket     Fare Cabin Embarked  Sex_female  \\\n",
       "0  22.0      1      0         A/5 21171   7.2500   NaN        S           0   \n",
       "1  38.0      1      0          PC 17599  71.2833   C85        C           1   \n",
       "2  26.0      0      0  STON/O2. 3101282   7.9250   NaN        S           1   \n",
       "3  35.0      1      0            113803  53.1000  C123        S           1   \n",
       "4  35.0      0      0            373450   8.0500   NaN        S           0   \n",
       "5   NaN      0      0            330877   8.4583   NaN        Q           0   \n",
       "6  54.0      0      0             17463  51.8625   E46        S           0   \n",
       "7   2.0      3      1            349909  21.0750   NaN        S           0   \n",
       "8  27.0      0      2            347742  11.1333   NaN        S           1   \n",
       "9  14.0      1      0            237736  30.0708   NaN        C           1   \n",
       "\n",
       "   Sex_male  Class_1  Class_2  Class_3  \n",
       "0         1        0        0        1  \n",
       "1         0        1        0        0  \n",
       "2         0        0        0        1  \n",
       "3         0        1        0        0  \n",
       "4         1        0        0        1  \n",
       "5         1        0        0        1  \n",
       "6         1        1        0        0  \n",
       "7         1        0        0        1  \n",
       "8         0        0        0        1  \n",
       "9         0        0        1        0  "
      ]
     },
     "execution_count": 31,
     "metadata": {},
     "output_type": "execute_result"
    }
   ],
   "source": [
    "titanic_train.head(10)"
   ]
  },
  {
   "cell_type": "code",
   "execution_count": 44,
   "metadata": {},
   "outputs": [],
   "source": [
    "# keep it simple, use class, age, sex, and fare as predictors\n",
    "dataset = titanic_train[['Class_1', 'Class_2', 'Sex_male', 'Age', 'Fare', 'Survived']]"
   ]
  },
  {
   "cell_type": "code",
   "execution_count": 45,
   "metadata": {},
   "outputs": [
    {
     "name": "stdout",
     "output_type": "stream",
     "text": [
      "     Class_1  Class_2  Sex_male   Age     Fare  Survived\n",
      "0          0        0         1  22.0   7.2500         0\n",
      "1          1        0         0  38.0  71.2833         1\n",
      "2          0        0         0  26.0   7.9250         1\n",
      "3          1        0         0  35.0  53.1000         1\n",
      "4          0        0         1  35.0   8.0500         0\n",
      "..       ...      ...       ...   ...      ...       ...\n",
      "886        0        1         1  27.0  13.0000         0\n",
      "887        1        0         0  19.0  30.0000         1\n",
      "888        0        0         0   NaN  23.4500         0\n",
      "889        1        0         1  26.0  30.0000         1\n",
      "890        0        0         1  32.0   7.7500         0\n",
      "\n",
      "[891 rows x 6 columns]\n"
     ]
    }
   ],
   "source": [
    "print(dataset)"
   ]
  },
  {
   "cell_type": "markdown",
   "metadata": {},
   "source": [
    "## Deal with missing data"
   ]
  },
  {
   "cell_type": "code",
   "execution_count": 46,
   "metadata": {},
   "outputs": [
    {
     "name": "stdout",
     "output_type": "stream",
     "text": [
      " \n",
      "Count total NaN at each column in a DataFrame : \n",
      "\n",
      " Class_1       0\n",
      "Class_2       0\n",
      "Sex_male      0\n",
      "Age         177\n",
      "Fare          0\n",
      "Survived      0\n",
      "dtype: int64\n"
     ]
    }
   ],
   "source": [
    "# Count total NaN at each column in a DataFrame \n",
    "print(\" \\nCount total NaN at each column in a DataFrame : \\n\\n\", \n",
    "      dataset.isnull().sum()) "
   ]
  },
  {
   "cell_type": "code",
   "execution_count": 47,
   "metadata": {},
   "outputs": [],
   "source": [
    "# remove observations from X where age is NaN, 714 rows left\n",
    "dataset = dataset.dropna()"
   ]
  },
  {
   "cell_type": "code",
   "execution_count": 49,
   "metadata": {},
   "outputs": [
    {
     "name": "stdout",
     "output_type": "stream",
     "text": [
      "     Class_1  Class_2  Sex_male   Age     Fare  Survived\n",
      "0          0        0         1  22.0   7.2500         0\n",
      "1          1        0         0  38.0  71.2833         1\n",
      "2          0        0         0  26.0   7.9250         1\n",
      "3          1        0         0  35.0  53.1000         1\n",
      "4          0        0         1  35.0   8.0500         0\n",
      "..       ...      ...       ...   ...      ...       ...\n",
      "885        0        0         0  39.0  29.1250         0\n",
      "886        0        1         1  27.0  13.0000         0\n",
      "887        1        0         0  19.0  30.0000         1\n",
      "889        1        0         1  26.0  30.0000         1\n",
      "890        0        0         1  32.0   7.7500         0\n",
      "\n",
      "[714 rows x 6 columns]\n"
     ]
    }
   ],
   "source": [
    "print(dataset)"
   ]
  },
  {
   "cell_type": "markdown",
   "metadata": {},
   "source": [
    "## Split into X and y"
   ]
  },
  {
   "cell_type": "code",
   "execution_count": 58,
   "metadata": {},
   "outputs": [],
   "source": [
    "X = dataset.iloc[:,:-1]\n",
    "y = dataset.iloc[:,-1]"
   ]
  },
  {
   "cell_type": "code",
   "execution_count": 51,
   "metadata": {},
   "outputs": [
    {
     "name": "stdout",
     "output_type": "stream",
     "text": [
      "     Class_1  Class_2  Sex_male   Age     Fare\n",
      "0          0        0         1  22.0   7.2500\n",
      "1          1        0         0  38.0  71.2833\n",
      "2          0        0         0  26.0   7.9250\n",
      "3          1        0         0  35.0  53.1000\n",
      "4          0        0         1  35.0   8.0500\n",
      "..       ...      ...       ...   ...      ...\n",
      "885        0        0         0  39.0  29.1250\n",
      "886        0        1         1  27.0  13.0000\n",
      "887        1        0         0  19.0  30.0000\n",
      "889        1        0         1  26.0  30.0000\n",
      "890        0        0         1  32.0   7.7500\n",
      "\n",
      "[714 rows x 5 columns]\n"
     ]
    }
   ],
   "source": [
    "print(X)"
   ]
  },
  {
   "cell_type": "code",
   "execution_count": 52,
   "metadata": {},
   "outputs": [
    {
     "name": "stdout",
     "output_type": "stream",
     "text": [
      "0      0\n",
      "1      1\n",
      "2      1\n",
      "3      1\n",
      "4      0\n",
      "      ..\n",
      "885    0\n",
      "886    0\n",
      "887    1\n",
      "889    1\n",
      "890    0\n",
      "Name: Survived, Length: 714, dtype: int64\n"
     ]
    }
   ],
   "source": [
    "print(y)"
   ]
  },
  {
   "cell_type": "markdown",
   "metadata": {},
   "source": [
    "## Split Data into Train and Test"
   ]
  },
  {
   "cell_type": "code",
   "execution_count": 59,
   "metadata": {},
   "outputs": [],
   "source": [
    "from sklearn.model_selection import train_test_split\n",
    "X=X.values\n",
    "y=y.values\n",
    "X_train, X_test, y_train, y_test = train_test_split(X, y, test_size = 0.2, random_state = 1)"
   ]
  },
  {
   "cell_type": "markdown",
   "metadata": {},
   "source": [
    "## Scale Variables"
   ]
  },
  {
   "cell_type": "code",
   "execution_count": 66,
   "metadata": {},
   "outputs": [],
   "source": [
    "from sklearn.preprocessing import StandardScaler\n",
    "sc = StandardScaler()\n",
    "# only transform age and fare, not categorical variables!\n",
    "X_train[:,3:] = sc.fit_transform(X_train[:,3:])\n",
    "X_test[:,3:] = sc.transform(X_test[:,3:])"
   ]
  },
  {
   "cell_type": "code",
   "execution_count": 67,
   "metadata": {},
   "outputs": [
    {
     "name": "stdout",
     "output_type": "stream",
     "text": [
      "[[ 0.          0.          0.         -1.02749969 -0.3792988 ]\n",
      " [ 0.          0.          1.         -0.40808323 -0.19791373]\n",
      " [ 0.          1.          1.          0.45221741 -0.16330468]\n",
      " ...\n",
      " [ 0.          0.          1.         -0.27043513 -0.26479337]\n",
      " [ 1.          0.          0.         -0.75220349  1.05417044]\n",
      " [ 0.          0.          1.         -0.61455538 -0.50378285]]\n"
     ]
    }
   ],
   "source": [
    "print(X_train)"
   ]
  },
  {
   "cell_type": "code",
   "execution_count": 68,
   "metadata": {},
   "outputs": [
    {
     "name": "stdout",
     "output_type": "stream",
     "text": [
      "[[ 1.00000000e+00  0.00000000e+00  0.00000000e+00 -1.02749969e+00\n",
      "   3.30391365e+00]\n",
      " [ 0.00000000e+00  0.00000000e+00  1.00000000e+00 -1.57809210e+00\n",
      "  -1.04843456e-01]\n",
      " [ 0.00000000e+00  1.00000000e+00  0.00000000e+00  2.11333229e-01\n",
      "  -1.63304681e-01]\n",
      " [ 0.00000000e+00  1.00000000e+00  0.00000000e+00 -1.09632374e+00\n",
      "  -8.71498152e-02]\n",
      " [ 0.00000000e+00  0.00000000e+00  1.00000000e+00 -6.14555385e-01\n",
      "  -4.99105956e-01]\n",
      " [ 0.00000000e+00  1.00000000e+00  1.00000000e+00  8.30749688e-01\n",
      "  -4.06503376e-01]\n",
      " [ 0.00000000e+00  1.00000000e+00  0.00000000e+00 -4.76907282e-01\n",
      "  -3.91692576e-01]\n",
      " [ 1.00000000e+00  0.00000000e+00  1.00000000e+00  1.79428640e+00\n",
      "  -1.53015505e-01]\n",
      " [ 0.00000000e+00  1.00000000e+00  1.00000000e+00  6.24277535e-01\n",
      "  -4.06503376e-01]\n",
      " [ 0.00000000e+00  1.00000000e+00  1.00000000e+00 -4.08083231e-01\n",
      "  -4.06503376e-01]\n",
      " [ 0.00000000e+00  1.00000000e+00  1.00000000e+00 -2.01611078e-01\n",
      "  -1.63304681e-01]\n",
      " [ 0.00000000e+00  0.00000000e+00  1.00000000e+00 -5.45731333e-01\n",
      "  -4.74786087e-01]\n",
      " [ 0.00000000e+00  0.00000000e+00  1.00000000e+00  1.07163387e+00\n",
      "  -5.14539720e-01]\n",
      " [ 0.00000000e+00  1.00000000e+00  1.00000000e+00  1.51899020e+00\n",
      "  -4.06503376e-01]\n",
      " [ 0.00000000e+00  0.00000000e+00  1.00000000e+00  2.11333229e-01\n",
      "  -4.71979948e-01]\n",
      " [ 0.00000000e+00  0.00000000e+00  1.00000000e+00 -1.85338830e+00\n",
      "  -3.52251359e-01]\n",
      " [ 0.00000000e+00  0.00000000e+00  1.00000000e+00 -2.70435129e-01\n",
      "  -3.79298796e-01]\n",
      " [ 0.00000000e+00  0.00000000e+00  1.00000000e+00 -5.45731333e-01\n",
      "  -5.14072030e-01]\n",
      " [ 0.00000000e+00  0.00000000e+00  1.00000000e+00  7.36851264e-02\n",
      "  -5.01444405e-01]\n",
      " [ 0.00000000e+00  0.00000000e+00  1.00000000e+00  1.17486994e+00\n",
      "  -4.81333744e-01]\n",
      " [ 0.00000000e+00  0.00000000e+00  1.00000000e+00 -7.52203487e-01\n",
      "  -5.01990667e-01]\n",
      " [ 0.00000000e+00  0.00000000e+00  1.00000000e+00  2.13840666e+00\n",
      "  -5.33013467e-01]\n",
      " [ 0.00000000e+00  0.00000000e+00  1.00000000e+00 -1.09632374e+00\n",
      "   2.27683992e-01]\n",
      " [ 1.00000000e+00  0.00000000e+00  1.00000000e+00  2.06958261e+00\n",
      "  -1.53015505e-01]\n",
      " [ 0.00000000e+00  0.00000000e+00  1.00000000e+00 -6.39629758e-02\n",
      "  -4.99105956e-01]\n",
      " [ 0.00000000e+00  0.00000000e+00  1.00000000e+00 -3.39259180e-01\n",
      "  -6.49702072e-01]\n",
      " [ 0.00000000e+00  0.00000000e+00  1.00000000e+00  1.24369400e+00\n",
      "  -5.02768903e-01]\n",
      " [ 1.00000000e+00  0.00000000e+00  1.00000000e+00 -7.52203487e-01\n",
      "   4.27039462e+00]\n",
      " [ 1.00000000e+00  0.00000000e+00  1.00000000e+00 -4.08083231e-01\n",
      "   8.31939212e-01]\n",
      " [ 0.00000000e+00  1.00000000e+00  1.00000000e+00 -4.76907282e-01\n",
      "  -4.06503376e-01]\n",
      " [ 1.00000000e+00  0.00000000e+00  0.00000000e+00  4.17805382e-01\n",
      "   6.78536958e-01]\n",
      " [ 1.00000000e+00  0.00000000e+00  1.00000000e+00  2.20723071e+00\n",
      "  -1.53015505e-01]\n",
      " [ 0.00000000e+00  1.00000000e+00  1.00000000e+00 -2.00273650e+00\n",
      "  -1.07181905e-01]\n",
      " [ 0.00000000e+00  0.00000000e+00  1.00000000e+00  2.11333229e-01\n",
      "  -5.04250544e-01]\n",
      " [ 1.00000000e+00  0.00000000e+00  0.00000000e+00 -3.39259180e-01\n",
      "   2.18543349e+00]\n",
      " [ 0.00000000e+00  0.00000000e+00  1.00000000e+00 -7.52203487e-01\n",
      "  -6.49702072e-01]\n",
      " [ 0.00000000e+00  0.00000000e+00  1.00000000e+00  6.93101586e-01\n",
      "  -5.01990667e-01]\n",
      " [ 1.00000000e+00  0.00000000e+00  0.00000000e+00 -6.14555385e-01\n",
      "   4.25870237e+00]\n",
      " [ 1.00000000e+00  0.00000000e+00  1.00000000e+00  4.17805382e-01\n",
      "  -1.56055489e-01]\n",
      " [ 0.00000000e+00  0.00000000e+00  1.00000000e+00  7.61925637e-01\n",
      "  -3.85769752e-01]\n",
      " [ 0.00000000e+00  0.00000000e+00  0.00000000e+00  4.86107527e-03\n",
      "  -4.16324862e-01]\n",
      " [ 0.00000000e+00  0.00000000e+00  1.00000000e+00 -9.83750014e-02\n",
      "  -3.48509841e-01]\n",
      " [ 0.00000000e+00  1.00000000e+00  1.00000000e+00  1.17486994e+00\n",
      "  -3.69088192e-01]\n",
      " [ 0.00000000e+00  0.00000000e+00  1.00000000e+00 -2.01611078e-01\n",
      "  -5.03861426e-01]\n",
      " [ 1.00000000e+00  0.00000000e+00  0.00000000e+00  7.36851264e-02\n",
      "   1.46940041e+00]\n",
      " [ 0.00000000e+00  1.00000000e+00  1.00000000e+00  2.00075856e+00\n",
      "  -3.97149580e-01]\n",
      " [ 0.00000000e+00  0.00000000e+00  1.00000000e+00 -9.58675640e-01\n",
      "   9.27554845e-02]\n",
      " [ 1.00000000e+00  0.00000000e+00  1.00000000e+00  1.93193451e+00\n",
      "  -9.40865903e-02]\n",
      " [ 0.00000000e+00  1.00000000e+00  0.00000000e+00 -1.32787027e-01\n",
      "  -1.63304681e-01]\n",
      " [ 0.00000000e+00  0.00000000e+00  0.00000000e+00  2.11333229e-01\n",
      "  -3.53186739e-01]\n",
      " [ 0.00000000e+00  0.00000000e+00  0.00000000e+00 -1.02749969e+00\n",
      "  -4.99495074e-01]\n",
      " [ 1.00000000e+00  0.00000000e+00  1.00000000e+00  1.03722184e+00\n",
      "   9.11914168e-01]\n",
      " [ 0.00000000e+00  0.00000000e+00  1.00000000e+00  1.42509177e-01\n",
      "  -4.99105956e-01]\n",
      " [ 0.00000000e+00  0.00000000e+00  1.00000000e+00  9.68397791e-01\n",
      "  -4.99105956e-01]\n",
      " [ 0.00000000e+00  0.00000000e+00  1.00000000e+00 -1.32787027e-01\n",
      "  -4.71979948e-01]\n",
      " [ 0.00000000e+00  0.00000000e+00  0.00000000e+00 -1.44044400e+00\n",
      "  -1.27760256e-01]\n",
      " [ 1.00000000e+00  0.00000000e+00  0.00000000e+00 -4.08083231e-01\n",
      "   4.27039462e+00]\n",
      " [ 1.00000000e+00  0.00000000e+00  0.00000000e+00 -7.52203487e-01\n",
      "  -1.58004820e-01]\n",
      " [ 0.00000000e+00  1.00000000e+00  1.00000000e+00 -1.92221236e+00\n",
      "  -1.63304681e-01]\n",
      " [ 0.00000000e+00  0.00000000e+00  0.00000000e+00 -1.85338830e+00\n",
      "  -2.55439571e-01]\n",
      " [ 0.00000000e+00  0.00000000e+00  1.00000000e+00 -2.70435129e-01\n",
      "  -4.99105956e-01]\n",
      " [ 0.00000000e+00  0.00000000e+00  1.00000000e+00 -1.78456425e+00\n",
      "  -6.46221329e-02]\n",
      " [ 0.00000000e+00  0.00000000e+00  1.00000000e+00  1.42509177e-01\n",
      "  -4.93259834e-01]\n",
      " [ 0.00000000e+00  0.00000000e+00  1.00000000e+00 -3.39259180e-01\n",
      "  -5.17813548e-01]\n",
      " [ 0.00000000e+00  0.00000000e+00  1.00000000e+00 -1.32787027e-01\n",
      "  -4.71979948e-01]\n",
      " [ 1.00000000e+00  0.00000000e+00  1.00000000e+00  2.11333229e-01\n",
      "  -5.56164112e-01]\n",
      " [ 0.00000000e+00  1.00000000e+00  1.00000000e+00 -1.85338830e+00\n",
      "  -1.63304681e-01]\n",
      " [ 0.00000000e+00  0.00000000e+00  1.00000000e+00  1.42509177e-01\n",
      "   4.07198303e-01]\n",
      " [ 0.00000000e+00  1.00000000e+00  1.00000000e+00 -1.99103641e+00\n",
      "   4.25574030e-02]\n",
      " [ 0.00000000e+00  0.00000000e+00  1.00000000e+00 -3.39259180e-01\n",
      "  -5.04873507e-01]\n",
      " [ 0.00000000e+00  1.00000000e+00  1.00000000e+00  2.80157280e-01\n",
      "  -4.06503376e-01]\n",
      " [ 0.00000000e+00  0.00000000e+00  1.00000000e+00 -5.45731333e-01\n",
      "  -5.01990667e-01]\n",
      " [ 0.00000000e+00  0.00000000e+00  1.00000000e+00 -1.99103641e+00\n",
      "   9.27554845e-02]\n",
      " [ 0.00000000e+00  1.00000000e+00  0.00000000e+00 -1.16514779e+00\n",
      "  -2.84904028e-01]\n",
      " [ 0.00000000e+00  0.00000000e+00  0.00000000e+00 -8.21027538e-01\n",
      "  -3.16706935e-01]\n",
      " [ 1.00000000e+00  0.00000000e+00  1.00000000e+00  1.42509177e-01\n",
      "  -7.91205167e-02]\n",
      " [ 0.00000000e+00  0.00000000e+00  0.00000000e+00  7.36851264e-02\n",
      "  -4.87258438e-01]\n",
      " [ 0.00000000e+00  0.00000000e+00  1.00000000e+00  8.99573740e-01\n",
      "  -4.99105956e-01]\n",
      " [ 0.00000000e+00  0.00000000e+00  1.00000000e+00  4.86629433e-01\n",
      "  -5.01444405e-01]\n",
      " [ 0.00000000e+00  1.00000000e+00  0.00000000e+00 -6.14555385e-01\n",
      "  -4.53272356e-01]\n",
      " [ 0.00000000e+00  0.00000000e+00  0.00000000e+00  7.36851264e-02\n",
      "  -3.12965416e-01]\n",
      " [ 0.00000000e+00  1.00000000e+00  0.00000000e+00  6.93101586e-01\n",
      "   7.98940150e-02]\n",
      " [ 1.00000000e+00  0.00000000e+00  1.00000000e+00  1.79428640e+00\n",
      "   1.44174431e-02]\n",
      " [ 1.00000000e+00  0.00000000e+00  0.00000000e+00 -7.52203487e-01\n",
      "  -8.84743127e-02]\n",
      " [ 1.00000000e+00  0.00000000e+00  0.00000000e+00 -8.21027538e-01\n",
      "   4.25870237e+00]\n",
      " [ 0.00000000e+00  0.00000000e+00  1.00000000e+00 -5.45731333e-01\n",
      "  -5.14072030e-01]\n",
      " [ 0.00000000e+00  0.00000000e+00  0.00000000e+00  1.03722184e+00\n",
      "  -1.27760256e-01]\n",
      " [ 0.00000000e+00  0.00000000e+00  1.00000000e+00 -2.70435129e-01\n",
      "  -5.02145940e-01]\n",
      " [ 1.00000000e+00  0.00000000e+00  1.00000000e+00  2.82664717e+00\n",
      "  -1.40543815e-03]\n",
      " [ 0.00000000e+00  0.00000000e+00  0.00000000e+00 -8.21027538e-01\n",
      "  -3.79298796e-01]\n",
      " [ 0.00000000e+00  1.00000000e+00  0.00000000e+00  2.80157280e-01\n",
      "  -4.17053328e-02]\n",
      " [ 0.00000000e+00  0.00000000e+00  1.00000000e+00 -9.58675640e-01\n",
      "  -6.62859783e-03]\n",
      " [ 0.00000000e+00  1.00000000e+00  1.00000000e+00 -2.01374834e+00\n",
      "  -3.78441988e-01]\n",
      " [ 0.00000000e+00  0.00000000e+00  0.00000000e+00  6.24277535e-01\n",
      "  -6.46221329e-02]\n",
      " [ 0.00000000e+00  0.00000000e+00  0.00000000e+00 -1.71574020e+00\n",
      "  -4.16324862e-01]\n",
      " [ 1.00000000e+00  0.00000000e+00  1.00000000e+00  1.31251805e+00\n",
      "   1.01722294e+00]\n",
      " [ 0.00000000e+00  0.00000000e+00  1.00000000e+00  1.03722184e+00\n",
      "  -5.19216618e-01]\n",
      " [ 0.00000000e+00  0.00000000e+00  0.00000000e+00 -2.01611078e-01\n",
      "  -5.01444405e-01]\n",
      " [ 0.00000000e+00  1.00000000e+00  1.00000000e+00  1.65663830e+00\n",
      "  -1.63304681e-01]\n",
      " [ 0.00000000e+00  1.00000000e+00  1.00000000e+00  3.48981331e-01\n",
      "  -4.53272356e-01]\n",
      " [ 0.00000000e+00  0.00000000e+00  1.00000000e+00  5.55453484e-01\n",
      "  -5.01990667e-01]\n",
      " [ 0.00000000e+00  0.00000000e+00  0.00000000e+00  1.17486994e+00\n",
      "  -3.78441988e-01]\n",
      " [ 0.00000000e+00  0.00000000e+00  1.00000000e+00 -6.83379436e-01\n",
      "  -3.55212771e-01]\n",
      " [ 1.00000000e+00  0.00000000e+00  1.00000000e+00  1.17486994e+00\n",
      "   3.23092711e-01]\n",
      " [ 1.00000000e+00  0.00000000e+00  0.00000000e+00  4.17805382e-01\n",
      "   1.88767036e+00]\n",
      " [ 0.00000000e+00  0.00000000e+00  0.00000000e+00 -1.09632374e+00\n",
      "  -5.02768903e-01]\n",
      " [ 0.00000000e+00  0.00000000e+00  1.00000000e+00  6.24277535e-01\n",
      "  -5.01444405e-01]\n",
      " [ 1.00000000e+00  0.00000000e+00  0.00000000e+00  1.51899020e+00\n",
      "   1.09945778e+00]\n",
      " [ 1.00000000e+00  0.00000000e+00  1.00000000e+00 -3.39259180e-01\n",
      "   1.05417044e+00]\n",
      " [ 0.00000000e+00  0.00000000e+00  1.00000000e+00 -8.89851589e-01\n",
      "  -5.17734976e-01]\n",
      " [ 0.00000000e+00  0.00000000e+00  0.00000000e+00 -1.92221236e+00\n",
      "  -4.19832535e-01]\n",
      " [ 0.00000000e+00  0.00000000e+00  0.00000000e+00  4.86107527e-03\n",
      "  -1.97913726e-01]\n",
      " [ 0.00000000e+00  1.00000000e+00  1.00000000e+00 -6.39629758e-02\n",
      "  -2.56842640e-01]\n",
      " [ 0.00000000e+00  1.00000000e+00  0.00000000e+00  4.86107527e-03\n",
      "  -2.56842640e-01]\n",
      " [ 0.00000000e+00  1.00000000e+00  0.00000000e+00 -1.32787027e-01\n",
      "  -4.06503376e-01]\n",
      " [ 1.00000000e+00  0.00000000e+00  1.00000000e+00  7.36851264e-02\n",
      "   3.23092711e-01]\n",
      " [ 0.00000000e+00  1.00000000e+00  1.00000000e+00  4.17805382e-01\n",
      "  -4.06503376e-01]\n",
      " [ 0.00000000e+00  0.00000000e+00  1.00000000e+00 -7.52203487e-01\n",
      "  -4.97079924e-01]\n",
      " [ 1.00000000e+00  0.00000000e+00  0.00000000e+00 -5.45731333e-01\n",
      "   3.79215487e-01]\n",
      " [ 1.00000000e+00  0.00000000e+00  0.00000000e+00  1.65663830e+00\n",
      "   4.61528891e-01]\n",
      " [ 0.00000000e+00  0.00000000e+00  1.00000000e+00 -5.45731333e-01\n",
      "  -4.81333744e-01]\n",
      " [ 1.00000000e+00  0.00000000e+00  0.00000000e+00  3.48981331e-01\n",
      "   9.11914168e-01]\n",
      " [ 0.00000000e+00  0.00000000e+00  1.00000000e+00  2.11333229e-01\n",
      "  -5.01990667e-01]\n",
      " [ 0.00000000e+00  0.00000000e+00  1.00000000e+00 -6.14555385e-01\n",
      "  -5.01444405e-01]\n",
      " [ 1.00000000e+00  0.00000000e+00  1.00000000e+00  1.03722184e+00\n",
      "  -1.53015505e-01]\n",
      " [ 0.00000000e+00  1.00000000e+00  1.00000000e+00  4.86107527e-03\n",
      "  -4.06503376e-01]\n",
      " [ 1.00000000e+00  0.00000000e+00  0.00000000e+00  7.36851264e-02\n",
      "   2.43455688e+00]\n",
      " [ 0.00000000e+00  0.00000000e+00  1.00000000e+00 -6.83379436e-01\n",
      "  -4.65510863e-01]\n",
      " [ 1.00000000e+00  0.00000000e+00  0.00000000e+00  2.11333229e-01\n",
      "   3.43671062e-01]\n",
      " [ 0.00000000e+00  0.00000000e+00  1.00000000e+00 -1.78456425e+00\n",
      "  -4.41424838e-01]\n",
      " [ 0.00000000e+00  0.00000000e+00  1.00000000e+00 -8.89851589e-01\n",
      "  -5.14461148e-01]\n",
      " [ 0.00000000e+00  0.00000000e+00  1.00000000e+00 -5.45731333e-01\n",
      "  -5.14539720e-01]\n",
      " [ 0.00000000e+00  0.00000000e+00  1.00000000e+00 -4.08083231e-01\n",
      "  -4.99105956e-01]\n",
      " [ 0.00000000e+00  1.00000000e+00  0.00000000e+00  2.80157280e-01\n",
      "  -2.19427456e-01]\n",
      " [ 1.00000000e+00  0.00000000e+00  1.00000000e+00 -2.01611078e-01\n",
      "  -7.91205167e-02]\n",
      " [ 0.00000000e+00  1.00000000e+00  1.00000000e+00 -1.32787027e-01\n",
      "  -3.23515368e-02]\n",
      " [ 0.00000000e+00  0.00000000e+00  0.00000000e+00 -1.44044400e+00\n",
      "  -6.62859783e-03]\n",
      " [ 0.00000000e+00  1.00000000e+00  1.00000000e+00  1.42509177e-01\n",
      "   7.25305938e-01]\n",
      " [ 1.00000000e+00  0.00000000e+00  0.00000000e+00  6.24277535e-01\n",
      "   1.42465746e+00]\n",
      " [ 0.00000000e+00  0.00000000e+00  0.00000000e+00 -7.52203487e-01\n",
      "  -5.02301213e-01]\n",
      " [ 0.00000000e+00  1.00000000e+00  1.00000000e+00 -4.08083231e-01\n",
      "  -4.53272356e-01]\n",
      " [ 1.00000000e+00  0.00000000e+00  0.00000000e+00 -8.89851589e-01\n",
      "   4.16630670e-01]\n",
      " [ 0.00000000e+00  0.00000000e+00  1.00000000e+00 -3.39259180e-01\n",
      "  -5.17813548e-01]]\n"
     ]
    }
   ],
   "source": [
    "print(X_test)"
   ]
  },
  {
   "cell_type": "markdown",
   "metadata": {},
   "source": [
    "## Train Classification Models"
   ]
  },
  {
   "cell_type": "code",
   "execution_count": 69,
   "metadata": {},
   "outputs": [],
   "source": [
    "# import packages from machine learning course\n",
    "from sklearn.linear_model import LogisticRegression \n",
    "from sklearn.neighbors import KNeighborsClassifier\n",
    "from sklearn.svm import SVC \n",
    "from sklearn.tree import DecisionTreeClassifier\n",
    "from sklearn.ensemble import RandomForestClassifier\n",
    "from sklearn.naive_bayes import GaussianNB"
   ]
  },
  {
   "cell_type": "code",
   "execution_count": 70,
   "metadata": {},
   "outputs": [
    {
     "data": {
      "text/plain": [
       "LogisticRegression(random_state=0)"
      ]
     },
     "execution_count": 70,
     "metadata": {},
     "output_type": "execute_result"
    }
   ],
   "source": [
    "# logistic regression\n",
    "classifier_logistic = LogisticRegression(random_state = 0)\n",
    "classifier_logistic.fit(X_train, y_train)"
   ]
  },
  {
   "cell_type": "code",
   "execution_count": 71,
   "metadata": {},
   "outputs": [
    {
     "data": {
      "text/plain": [
       "KNeighborsClassifier()"
      ]
     },
     "execution_count": 71,
     "metadata": {},
     "output_type": "execute_result"
    }
   ],
   "source": [
    "# k nearest neighbors\n",
    "classifier_knn = KNeighborsClassifier(n_neighbors = 5, metric = 'minkowski', p = 2)\n",
    "classifier_knn.fit(X_train, y_train)"
   ]
  },
  {
   "cell_type": "code",
   "execution_count": 72,
   "metadata": {},
   "outputs": [
    {
     "data": {
      "text/plain": [
       "SVC(kernel='linear', random_state=0)"
      ]
     },
     "execution_count": 72,
     "metadata": {},
     "output_type": "execute_result"
    }
   ],
   "source": [
    "# support vector machine linear kernal\n",
    "classifier_svm = SVC(kernel = 'linear', random_state = 0)\n",
    "classifier_svm.fit(X_train, y_train)"
   ]
  },
  {
   "cell_type": "code",
   "execution_count": 73,
   "metadata": {},
   "outputs": [
    {
     "data": {
      "text/plain": [
       "SVC(random_state=0)"
      ]
     },
     "execution_count": 73,
     "metadata": {},
     "output_type": "execute_result"
    }
   ],
   "source": [
    "# support vector machine non-linear kernal\n",
    "classifier_svm2 = SVC(kernel = 'rbf', random_state = 0)\n",
    "classifier_svm2.fit(X_train, y_train)"
   ]
  },
  {
   "cell_type": "code",
   "execution_count": 74,
   "metadata": {},
   "outputs": [
    {
     "data": {
      "text/plain": [
       "DecisionTreeClassifier(criterion='entropy', random_state=0)"
      ]
     },
     "execution_count": 74,
     "metadata": {},
     "output_type": "execute_result"
    }
   ],
   "source": [
    "# decision tree\n",
    "classifier_tree = DecisionTreeClassifier(criterion = 'entropy', random_state = 0)\n",
    "classifier_tree.fit(X_train, y_train)"
   ]
  },
  {
   "cell_type": "code",
   "execution_count": 75,
   "metadata": {},
   "outputs": [
    {
     "data": {
      "text/plain": [
       "RandomForestClassifier(criterion='entropy', n_estimators=10, random_state=0)"
      ]
     },
     "execution_count": 75,
     "metadata": {},
     "output_type": "execute_result"
    }
   ],
   "source": [
    "# random forest\n",
    "classifier_rf = RandomForestClassifier(n_estimators = 10, criterion = 'entropy', random_state = 0)\n",
    "classifier_rf.fit(X_train, y_train)"
   ]
  },
  {
   "cell_type": "code",
   "execution_count": 76,
   "metadata": {},
   "outputs": [
    {
     "data": {
      "text/plain": [
       "GaussianNB()"
      ]
     },
     "execution_count": 76,
     "metadata": {},
     "output_type": "execute_result"
    }
   ],
   "source": [
    "# naive bayes\n",
    "classifier_nb = GaussianNB()\n",
    "classifier_nb.fit(X_train, y_train)"
   ]
  },
  {
   "cell_type": "markdown",
   "metadata": {},
   "source": [
    "## Accuracy on Training Data?"
   ]
  },
  {
   "cell_type": "code",
   "execution_count": 77,
   "metadata": {},
   "outputs": [],
   "source": [
    "# import packages\n",
    "from sklearn.metrics import confusion_matrix, accuracy_score"
   ]
  },
  {
   "cell_type": "code",
   "execution_count": 78,
   "metadata": {},
   "outputs": [
    {
     "name": "stdout",
     "output_type": "stream",
     "text": [
      "[[288  50]\n",
      " [ 63 170]]\n"
     ]
    },
    {
     "data": {
      "text/plain": [
       "0.8021015761821366"
      ]
     },
     "execution_count": 78,
     "metadata": {},
     "output_type": "execute_result"
    }
   ],
   "source": [
    "y_pred = classifier_logistic.predict(X_train)\n",
    "cm = confusion_matrix(y_train, y_pred)\n",
    "print(cm)\n",
    "accuracy_score(y_train, y_pred)"
   ]
  },
  {
   "cell_type": "code",
   "execution_count": 79,
   "metadata": {},
   "outputs": [
    {
     "name": "stdout",
     "output_type": "stream",
     "text": [
      "[[301  37]\n",
      " [ 51 182]]\n"
     ]
    },
    {
     "data": {
      "text/plain": [
       "0.8458844133099825"
      ]
     },
     "execution_count": 79,
     "metadata": {},
     "output_type": "execute_result"
    }
   ],
   "source": [
    "y_pred = classifier_knn.predict(X_train)\n",
    "cm = confusion_matrix(y_train, y_pred)\n",
    "print(cm)\n",
    "accuracy_score(y_train, y_pred)"
   ]
  },
  {
   "cell_type": "code",
   "execution_count": 80,
   "metadata": {},
   "outputs": [
    {
     "name": "stdout",
     "output_type": "stream",
     "text": [
      "[[286  52]\n",
      " [ 72 161]]\n"
     ]
    },
    {
     "data": {
      "text/plain": [
       "0.7828371278458844"
      ]
     },
     "execution_count": 80,
     "metadata": {},
     "output_type": "execute_result"
    }
   ],
   "source": [
    "y_pred = classifier_svm.predict(X_train)\n",
    "cm = confusion_matrix(y_train, y_pred)\n",
    "print(cm)\n",
    "accuracy_score(y_train, y_pred)"
   ]
  },
  {
   "cell_type": "code",
   "execution_count": 81,
   "metadata": {},
   "outputs": [
    {
     "name": "stdout",
     "output_type": "stream",
     "text": [
      "[[306  32]\n",
      " [ 75 158]]\n"
     ]
    },
    {
     "data": {
      "text/plain": [
       "0.8126094570928196"
      ]
     },
     "execution_count": 81,
     "metadata": {},
     "output_type": "execute_result"
    }
   ],
   "source": [
    "y_pred = classifier_svm2.predict(X_train)\n",
    "cm = confusion_matrix(y_train, y_pred)\n",
    "print(cm)\n",
    "accuracy_score(y_train, y_pred)"
   ]
  },
  {
   "cell_type": "code",
   "execution_count": 82,
   "metadata": {},
   "outputs": [
    {
     "name": "stdout",
     "output_type": "stream",
     "text": [
      "[[338   0]\n",
      " [  8 225]]\n"
     ]
    },
    {
     "data": {
      "text/plain": [
       "0.9859894921190894"
      ]
     },
     "execution_count": 82,
     "metadata": {},
     "output_type": "execute_result"
    }
   ],
   "source": [
    "y_pred = classifier_tree.predict(X_train)\n",
    "cm = confusion_matrix(y_train, y_pred)\n",
    "print(cm)\n",
    "accuracy_score(y_train, y_pred)"
   ]
  },
  {
   "cell_type": "code",
   "execution_count": 83,
   "metadata": {},
   "outputs": [
    {
     "name": "stdout",
     "output_type": "stream",
     "text": [
      "[[329   9]\n",
      " [  7 226]]\n"
     ]
    },
    {
     "data": {
      "text/plain": [
       "0.9719789842381786"
      ]
     },
     "execution_count": 83,
     "metadata": {},
     "output_type": "execute_result"
    }
   ],
   "source": [
    "y_pred = classifier_rf.predict(X_train)\n",
    "cm = confusion_matrix(y_train, y_pred)\n",
    "print(cm)\n",
    "accuracy_score(y_train, y_pred)"
   ]
  },
  {
   "cell_type": "code",
   "execution_count": 84,
   "metadata": {},
   "outputs": [
    {
     "name": "stdout",
     "output_type": "stream",
     "text": [
      "[[267  71]\n",
      " [ 60 173]]\n"
     ]
    },
    {
     "data": {
      "text/plain": [
       "0.7705779334500875"
      ]
     },
     "execution_count": 84,
     "metadata": {},
     "output_type": "execute_result"
    }
   ],
   "source": [
    "y_pred = classifier_nb.predict(X_train)\n",
    "cm = confusion_matrix(y_train, y_pred)\n",
    "print(cm)\n",
    "accuracy_score(y_train, y_pred)"
   ]
  },
  {
   "cell_type": "markdown",
   "metadata": {},
   "source": [
    "## But more important: Accuracy on test set??"
   ]
  },
  {
   "cell_type": "code",
   "execution_count": 85,
   "metadata": {},
   "outputs": [
    {
     "name": "stdout",
     "output_type": "stream",
     "text": [
      "[[75 11]\n",
      " [20 37]]\n"
     ]
    },
    {
     "data": {
      "text/plain": [
       "0.7832167832167832"
      ]
     },
     "execution_count": 85,
     "metadata": {},
     "output_type": "execute_result"
    }
   ],
   "source": [
    "y_pred = classifier_logistic.predict(X_test)\n",
    "cm = confusion_matrix(y_test, y_pred)\n",
    "print(cm)\n",
    "accuracy_score(y_test, y_pred)"
   ]
  },
  {
   "cell_type": "code",
   "execution_count": 86,
   "metadata": {},
   "outputs": [
    {
     "name": "stdout",
     "output_type": "stream",
     "text": [
      "[[81  5]\n",
      " [14 43]]\n"
     ]
    },
    {
     "data": {
      "text/plain": [
       "0.8671328671328671"
      ]
     },
     "execution_count": 86,
     "metadata": {},
     "output_type": "execute_result"
    }
   ],
   "source": [
    "y_pred = classifier_knn.predict(X_test)\n",
    "cm = confusion_matrix(y_test, y_pred)\n",
    "print(cm)\n",
    "accuracy_score(y_test, y_pred)"
   ]
  },
  {
   "cell_type": "code",
   "execution_count": 87,
   "metadata": {},
   "outputs": [
    {
     "name": "stdout",
     "output_type": "stream",
     "text": [
      "[[74 12]\n",
      " [21 36]]\n"
     ]
    },
    {
     "data": {
      "text/plain": [
       "0.7692307692307693"
      ]
     },
     "execution_count": 87,
     "metadata": {},
     "output_type": "execute_result"
    }
   ],
   "source": [
    "y_pred = classifier_svm.predict(X_test)\n",
    "cm = confusion_matrix(y_test, y_pred)\n",
    "print(cm)\n",
    "accuracy_score(y_test, y_pred)"
   ]
  },
  {
   "cell_type": "code",
   "execution_count": 88,
   "metadata": {},
   "outputs": [
    {
     "name": "stdout",
     "output_type": "stream",
     "text": [
      "[[78  8]\n",
      " [20 37]]\n"
     ]
    },
    {
     "data": {
      "text/plain": [
       "0.8041958041958042"
      ]
     },
     "execution_count": 88,
     "metadata": {},
     "output_type": "execute_result"
    }
   ],
   "source": [
    "y_pred = classifier_svm2.predict(X_test)\n",
    "cm = confusion_matrix(y_test, y_pred)\n",
    "print(cm)\n",
    "accuracy_score(y_test, y_pred)"
   ]
  },
  {
   "cell_type": "code",
   "execution_count": 89,
   "metadata": {},
   "outputs": [
    {
     "name": "stdout",
     "output_type": "stream",
     "text": [
      "[[75 11]\n",
      " [12 45]]\n"
     ]
    },
    {
     "data": {
      "text/plain": [
       "0.8391608391608392"
      ]
     },
     "execution_count": 89,
     "metadata": {},
     "output_type": "execute_result"
    }
   ],
   "source": [
    "y_pred = classifier_tree.predict(X_test)\n",
    "cm = confusion_matrix(y_test, y_pred)\n",
    "print(cm)\n",
    "accuracy_score(y_test, y_pred)"
   ]
  },
  {
   "cell_type": "code",
   "execution_count": 90,
   "metadata": {},
   "outputs": [
    {
     "name": "stdout",
     "output_type": "stream",
     "text": [
      "[[75 11]\n",
      " [16 41]]\n"
     ]
    },
    {
     "data": {
      "text/plain": [
       "0.8111888111888111"
      ]
     },
     "execution_count": 90,
     "metadata": {},
     "output_type": "execute_result"
    }
   ],
   "source": [
    "y_pred = classifier_rf.predict(X_test)\n",
    "cm = confusion_matrix(y_test, y_pred)\n",
    "print(cm)\n",
    "accuracy_score(y_test, y_pred)"
   ]
  },
  {
   "cell_type": "code",
   "execution_count": 91,
   "metadata": {},
   "outputs": [
    {
     "name": "stdout",
     "output_type": "stream",
     "text": [
      "[[71 15]\n",
      " [19 38]]\n"
     ]
    },
    {
     "data": {
      "text/plain": [
       "0.7622377622377622"
      ]
     },
     "execution_count": 91,
     "metadata": {},
     "output_type": "execute_result"
    }
   ],
   "source": [
    "y_pred = classifier_nb.predict(X_test)\n",
    "cm = confusion_matrix(y_test, y_pred)\n",
    "print(cm)\n",
    "accuracy_score(y_test, y_pred)"
   ]
  },
  {
   "cell_type": "markdown",
   "metadata": {},
   "source": [
    "K-Nearest Neighbors does best on test set!"
   ]
  }
 ],
 "metadata": {
  "kernelspec": {
   "display_name": "Python 3",
   "language": "python",
   "name": "python3"
  },
  "language_info": {
   "codemirror_mode": {
    "name": "ipython",
    "version": 3
   },
   "file_extension": ".py",
   "mimetype": "text/x-python",
   "name": "python",
   "nbconvert_exporter": "python",
   "pygments_lexer": "ipython3",
   "version": "3.7.5"
  }
 },
 "nbformat": 4,
 "nbformat_minor": 2
}
